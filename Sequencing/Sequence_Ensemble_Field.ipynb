{
 "cells": [
  {
   "cell_type": "markdown",
   "id": "185a7450",
   "metadata": {},
   "source": [
    "# Sequencing of Ensemble Solutions\n",
    "This notebook uses The Sequencer to analyze the ensembles produced by our 1D electrical resistivity inversions.\n",
    "1. Loading the output from MATLAB"
   ]
  },
  {
   "cell_type": "code",
   "execution_count": 1,
   "id": "7bf3c1be",
   "metadata": {},
   "outputs": [],
   "source": [
    "import numpy as np\n",
    "import matplotlib.pyplot as plt\n",
    "import sequencer\n",
    "from scipy.io import loadmat\n",
    "import h5py"
   ]
  },
  {
   "cell_type": "code",
   "execution_count": 2,
   "id": "9e8bc58f",
   "metadata": {},
   "outputs": [],
   "source": [
    "# define the files for each model run\n",
    "n_keep = 125\n",
    "offset = 0 # number that gets added to all log-rho values because EMD cannot deal with negative numbers\n",
    "\n",
    "date = \"11142023\"\n",
    "\n",
    "#analysis_file_base = \"../Ensembles_Constable1984_1_11082023/Analysis_Constable1984_\"\n",
    "#ensemble_file_base = \"../Ensembles_Constable1984_1_11082023/Ensemble_Constable1984_\"\n",
    "\n",
    "#analysis_file_base = \"../Ensembles_Constable_MalinvernoPrior/Analysis_Constable1984_\"\n",
    "#ensemble_file_base = \"../Ensembles_Constable_MalinvernoPrior/Ensemble_Constable1984_\"\n",
    " \n",
    "analysis_file_base = \"../Analysis_Constable1984_nohierarchical_\"\n",
    "ensemble_file_base = \"../Ensemble_Constable1984_nohierarchical_\"\n",
    "\n",
    "    \n",
    "def load_analysis(filename):\n",
    "    with h5py.File(filename, 'r') as file:\n",
    "        print(list(file.keys()))\n",
    "        log_rho = np.array(file[\"logRhoPlot\"]) # logarithm of resistivity\n",
    "        xVals = np.array(file[\"xVals\"]) # log-resistivity bins used in analyses\n",
    "        zVals = np.array(file[\"zVals\"]) # logarithm of depth\n",
    "        residuals = np.array(file[\"residuals\"])\n",
    "        ewre2n = np.array(file[\"ewre2n\"])\n",
    "    return xVals, zVals, log_rho, residuals, ewre2n\n",
    "              \n",
    "def load_ensemble(filename):\n",
    "    with h5py.File(filename, 'r') as file:        \n",
    "        depth = np.array(file[\"results\"][\"ensembleDepths\"])\n",
    "        rho = np.array(file[\"results\"][\"ensembleRhos\"])\n",
    "        n_layer = np.array(file[\"results\"][\"ensembleNumLayers\"])\n",
    "    return depth, rho, n_layer\n",
    "            \n",
    "# x, z, log_rho,residuals,ewre2n = load_analysis(analysis_file)\n",
    "# depth, rho, n_layer = load_ensemble(ensemble_file)"
   ]
  },
  {
   "cell_type": "code",
   "execution_count": 3,
   "id": "8860c327",
   "metadata": {},
   "outputs": [],
   "source": [
    "# Note - doing pcolor for all of logrhoplot is very very slow. That's why the code is commented out!\n",
    "# plt.figure()\n",
    "# plt.pcolor(log_rho)\n",
    "# plt.colorbar()\n",
    "# plt.show()"
   ]
  },
  {
   "cell_type": "code",
   "execution_count": null,
   "id": "3e457510",
   "metadata": {},
   "outputs": [],
   "source": [
    "fig,ax = plt.subplots(1,1)\n",
    "h = ax.pcolorfast(log_rho_samples.T)\n",
    "plt.colorbar(h)\n",
    "fig.show()"
   ]
  },
  {
   "cell_type": "code",
   "execution_count": 3,
   "id": "aa07a794",
   "metadata": {
    "scrolled": true
   },
   "outputs": [
    {
     "name": "stdout",
     "output_type": "stream",
     "text": [
      "now on ensemble ../Ensemble_Constable1984_nohierarchical_1.mat\n",
      "['#refs#', '#subsystem#', 'allClusterSets', 'allModels', 'allPartitions', 'binCenters', 'ewre2n', 'logRhoPlot', 'nRhoBins', 'numElements', 'nzplot', 'residuals', 'xVals', 'yVals', 'zVals']\n",
      "offset= 1.0\n",
      "Parallelization is ON. Number of cores: 8\n",
      "calculating the distance matrices for estimator: EMD, scale: 1\n",
      "finished calculating this distance matrix list, it took: 1.6349518299102783 seconds\n",
      "calculating the distance matrices for estimator: L2, scale: 1\n",
      "finished calculating this distance matrix list, it took: 0.1274869441986084 seconds\n",
      "calculating the distance matrices for estimator: energy, scale: 1\n",
      "finished calculating this distance matrix list, it took: 0.4938642978668213 seconds\n",
      "dumped the distance matrix dictionaries to the file: 11142023/sequencer_output_1/distance_matrices.pkl\n",
      "strating to sequence the different scales and estimators\n",
      "in estimator: EMD, scale: 1\n"
     ]
    },
    {
     "ename": "AttributeError",
     "evalue": "module 'networkx' has no attribute 'from_scipy_sparse_matrix'",
     "output_type": "error",
     "traceback": [
      "\u001b[0;31m---------------------------------------------------------------------------\u001b[0m",
      "\u001b[0;31mAttributeError\u001b[0m                            Traceback (most recent call last)",
      "Cell \u001b[0;32mIn[3], line 41\u001b[0m\n\u001b[1;32m     39\u001b[0m         \u001b[38;5;28;01mpass\u001b[39;00m\n\u001b[1;32m     40\u001b[0m     seq \u001b[38;5;241m=\u001b[39m sequencer\u001b[38;5;241m.\u001b[39mSequencer(z\u001b[38;5;241m.\u001b[39mflatten(), log_rho_samples\u001b[38;5;241m+\u001b[39moffset, estimator_list,scale_list\u001b[38;5;241m=\u001b[39mscale_list)\n\u001b[0;32m---> 41\u001b[0m     final_elongation, final_sequence \u001b[38;5;241m=\u001b[39m \u001b[43mseq\u001b[49m\u001b[38;5;241;43m.\u001b[39;49m\u001b[43mexecute\u001b[49m\u001b[43m(\u001b[49m\u001b[43moutput_directory\u001b[49m\u001b[43m,\u001b[49m\u001b[43m                                              \u001b[49m\n\u001b[1;32m     42\u001b[0m \u001b[43m                                                  \u001b[49m\u001b[43mto_use_parallelization\u001b[49m\u001b[38;5;241;43m=\u001b[39;49m\u001b[38;5;28;43;01mTrue\u001b[39;49;00m\u001b[43m,\u001b[49m\n\u001b[1;32m     43\u001b[0m \u001b[43m                                                  \u001b[49m\u001b[43mto_average_N_best_estimators\u001b[49m\u001b[38;5;241;43m=\u001b[39;49m\u001b[38;5;28;43;01mTrue\u001b[39;49;00m\u001b[43m,\u001b[49m\u001b[43m \u001b[49m\n\u001b[1;32m     44\u001b[0m \u001b[43m                                                  \u001b[49m\u001b[43mnumber_of_best_estimators\u001b[49m\u001b[38;5;241;43m=\u001b[39;49m\u001b[38;5;241;43m2\u001b[39;49m\u001b[43m)\u001b[49m\n\u001b[1;32m     45\u001b[0m np\u001b[38;5;241m.\u001b[39msave(date \u001b[38;5;241m+\u001b[39m \u001b[38;5;124m\"\u001b[39m\u001b[38;5;124m/keep_indices.npy\u001b[39m\u001b[38;5;124m\"\u001b[39m,all_keep_idx)\n",
      "File \u001b[0;32m~/miniconda3/lib/python3.10/site-packages/sequencer/sequencer_.py:276\u001b[0m, in \u001b[0;36mSequencer.execute\u001b[0;34m(self, outpath, to_print_progress, to_calculate_distance_matrices, to_save_distance_matrices, distance_matrices_inpath, to_save_elongations, to_average_N_best_estimators, number_of_best_estimators, to_use_parallelization)\u001b[0m\n\u001b[1;32m    273\u001b[0m     \u001b[38;5;28mprint\u001b[39m(\u001b[38;5;124m\"\u001b[39m\u001b[38;5;124min estimator: \u001b[39m\u001b[38;5;132;01m%s\u001b[39;00m\u001b[38;5;124m, scale: \u001b[39m\u001b[38;5;132;01m%s\u001b[39;00m\u001b[38;5;124m\"\u001b[39m \u001b[38;5;241m%\u001b[39m (estimator_name, scale_value))\n\u001b[1;32m    275\u001b[0m distance_matrix_list \u001b[38;5;241m=\u001b[39m distance_matrix_dictionary[(estimator_name, scale_value)]\n\u001b[0;32m--> 276\u001b[0m weighted_distance_matrix, ordering_per_chunk_list, elongation_per_chunk_list \u001b[38;5;241m=\u001b[39m \u001b[38;5;28;43mself\u001b[39;49m\u001b[38;5;241;43m.\u001b[39;49m\u001b[43m_return_weighted_distance_matrix_for_single_estimator_and_scale\u001b[49m\u001b[43m(\u001b[49m\u001b[43mdistance_matrix_list\u001b[49m\u001b[43m,\u001b[49m\u001b[43m \u001b[49m\u001b[43mto_return_elongation_list\u001b[49m\u001b[38;5;241;43m=\u001b[39;49m\u001b[38;5;28;43;01mTrue\u001b[39;49;00m\u001b[43m)\u001b[49m\n\u001b[1;32m    277\u001b[0m \u001b[38;5;66;03m# now obtain sequences from the weighted distance matrix\u001b[39;00m\n\u001b[1;32m    278\u001b[0m ordering_bfs, ordering_dfs, mst_elongation, MST \u001b[38;5;241m=\u001b[39m \u001b[38;5;28mself\u001b[39m\u001b[38;5;241m.\u001b[39m_apply_MST_and_return_BFS_DFS_ordering(weighted_distance_matrix, return_elongation\u001b[38;5;241m=\u001b[39m\u001b[38;5;28;01mTrue\u001b[39;00m, return_MST\u001b[38;5;241m=\u001b[39m\u001b[38;5;28;01mTrue\u001b[39;00m)\n",
      "File \u001b[0;32m~/miniconda3/lib/python3.10/site-packages/sequencer/sequencer_.py:1149\u001b[0m, in \u001b[0;36mSequencer._return_weighted_distance_matrix_for_single_estimator_and_scale\u001b[0;34m(self, distance_matrix_list, to_return_elongation_list, to_return_sequence_list)\u001b[0m\n\u001b[1;32m   1147\u001b[0m \u001b[38;5;28;01mfor\u001b[39;00m chunk_index \u001b[38;5;129;01min\u001b[39;00m \u001b[38;5;28mrange\u001b[39m(\u001b[38;5;28mlen\u001b[39m(distance_matrix_list)):\n\u001b[1;32m   1148\u001b[0m     distance_matrix_of_chunk \u001b[38;5;241m=\u001b[39m distance_matrix_list[chunk_index]\n\u001b[0;32m-> 1149\u001b[0m     ordering_bfs, ordering_dfs, mst_elongation, mst \u001b[38;5;241m=\u001b[39m \u001b[38;5;28;43mself\u001b[39;49m\u001b[38;5;241;43m.\u001b[39;49m\u001b[43m_apply_MST_and_return_BFS_DFS_ordering\u001b[49m\u001b[43m(\u001b[49m\u001b[43mdistance_matrix_of_chunk\u001b[49m\u001b[43m,\u001b[49m\u001b[43m \u001b[49m\u001b[43mreturn_elongation\u001b[49m\u001b[38;5;241;43m=\u001b[39;49m\u001b[38;5;28;43;01mTrue\u001b[39;49;00m\u001b[43m,\u001b[49m\u001b[43m \u001b[49m\u001b[43mreturn_MST\u001b[49m\u001b[38;5;241;43m=\u001b[39;49m\u001b[38;5;28;43;01mTrue\u001b[39;49;00m\u001b[43m)\u001b[49m\n\u001b[1;32m   1150\u001b[0m     elongation_list\u001b[38;5;241m.\u001b[39mappend(mst_elongation)\n\u001b[1;32m   1151\u001b[0m     ordering_list\u001b[38;5;241m.\u001b[39mappend(ordering_bfs)\n",
      "File \u001b[0;32m~/miniconda3/lib/python3.10/site-packages/sequencer/sequencer_.py:838\u001b[0m, in \u001b[0;36mSequencer._apply_MST_and_return_BFS_DFS_ordering\u001b[0;34m(self, distance_matrix, start_index, return_elongation, return_MST)\u001b[0m\n\u001b[1;32m    835\u001b[0m \u001b[38;5;28;01massert\u001b[39;00m (distance_matrix\u001b[38;5;241m.\u001b[39mdiagonal() \u001b[38;5;241m==\u001b[39m \u001b[38;5;241m0\u001b[39m)\u001b[38;5;241m.\u001b[39mall(), \u001b[38;5;124m\"\u001b[39m\u001b[38;5;124mdistance matrix must contain zeros in its diagonal\u001b[39m\u001b[38;5;124m\"\u001b[39m\n\u001b[1;32m    837\u001b[0m min_span_dist_mat \u001b[38;5;241m=\u001b[39m minimum_spanning_tree(csr_matrix(distance_matrix))\u001b[38;5;241m.\u001b[39mtoarray()\n\u001b[0;32m--> 838\u001b[0m G \u001b[38;5;241m=\u001b[39m \u001b[43mnx\u001b[49m\u001b[38;5;241;43m.\u001b[39;49m\u001b[43mfrom_scipy_sparse_matrix\u001b[49m(minimum_spanning_tree(csr_matrix(distance_matrix)))\n\u001b[1;32m    839\u001b[0m \u001b[38;5;28;01mif\u001b[39;00m start_index \u001b[38;5;241m==\u001b[39m \u001b[38;5;28;01mNone\u001b[39;00m:\n\u001b[1;32m    840\u001b[0m     start_index \u001b[38;5;241m=\u001b[39m \u001b[38;5;28mself\u001b[39m\u001b[38;5;241m.\u001b[39m_return_start_index_from_MST(G)\n",
      "\u001b[0;31mAttributeError\u001b[0m: module 'networkx' has no attribute 'from_scipy_sparse_matrix'"
     ]
    }
   ],
   "source": [
    "# noise_levels = [\"0.01\",\"0.02\",\"0.05\",\"0.1\",\"0.2\"]\n",
    "noise_levels = [\"1\"]\n",
    "all_keep_idx = []\n",
    "import os\n",
    "try:\n",
    "    os.mkdir(date)\n",
    "except:\n",
    "    pass\n",
    "\n",
    "# Sequence the log_rho samples and SAVE THE RESULTS FOR LATER USE!!\n",
    "for noise_level in noise_levels:\n",
    "    #     analysis_file = \"../Ensembles_09132021/Analysis3LayerA_\" + noise_level + \".mat\"\n",
    "    #     ensemble_file = \"../Ensembles_09132021/Ensemble_3LayerA_\" + noise_level + \".mat\"\n",
    "    analysis_file = analysis_file_base + noise_level + \".mat\"\n",
    "    ensemble_file = ensemble_file_base + noise_level + \".mat\"\n",
    "    # load the ensemble:\n",
    "    print(\"now on ensemble \"+ensemble_file)\n",
    "    x, z, log_rho, residuals ,ewre2n = load_analysis(analysis_file)\n",
    "    depth, rho, n_layer = load_ensemble(ensemble_file)\n",
    "    \n",
    "    # select a subset of the ensemble:\n",
    "    #keep_idx = np.random.permutation(log_rho.shape[0])[:n_keep]\n",
    "    keep_idx = np.arange(0,log_rho.shape[0],int(log_rho.shape[0]/n_keep))\n",
    "    all_keep_idx.append(keep_idx) # save the keep idx for later use\n",
    "    log_rho_samples = log_rho[keep_idx,:]\n",
    "    \n",
    "    offset = np.ceil(np.min(log_rho_samples)) + 1\n",
    "    print(\"offset=\",offset)\n",
    "    \n",
    "    assert( np.all(log_rho_samples+offset > 0) )\n",
    "    \n",
    "    estimator_list = ['EMD','L2','energy']\n",
    "    output_directory = date + \"/sequencer_output_\" + noise_level\n",
    "    scale_list = [[1],[1],[1]]\n",
    "    import os\n",
    "    try:\n",
    "        os.mkdir(output_directory)\n",
    "    except:\n",
    "        pass\n",
    "    seq = sequencer.Sequencer(z.flatten(), log_rho_samples+offset, estimator_list,scale_list=scale_list)\n",
    "    final_elongation, final_sequence = seq.execute(output_directory,                                              \n",
    "                                                  to_use_parallelization=True,\n",
    "                                                  to_average_N_best_estimators=True, \n",
    "                                                  number_of_best_estimators=2)\n",
    "np.save(date + \"/keep_indices.npy\",all_keep_idx)\n",
    "    \n"
   ]
  },
  {
   "cell_type": "code",
   "execution_count": null,
   "id": "56ca0671",
   "metadata": {
    "scrolled": true
   },
   "outputs": [
    {
     "name": "stdout",
     "output_type": "stream",
     "text": [
      "now on ensemble ../Ensembles_Constable_MalinvernoPrior/Ensemble_Constable1984_1.mat\n",
      "['#refs#', '#subsystem#', 'allClusterSets', 'allModels', 'allPartitions', 'binCenters', 'ewre2n', 'logRhoPlot', 'nRhoBins', 'numElements', 'nzplot', 'residuals', 'xVals', 'yVals', 'zVals']\n",
      "strating to sequence the different scales and estimators\n",
      "in estimator: L2, scale: 1\n"
     ]
    }
   ],
   "source": [
    "# LOAD THE RESULTS AND PLOT!    \n",
    "all_keep_idx = np.load(date + \"/keep_indices.npy\")\n",
    "noise_levels = [\"1\"]\n",
    "\n",
    "for noise_level,keep_idx in zip(noise_levels,all_keep_idx):\n",
    "    analysis_file = analysis_file_base + noise_level + \".mat\"\n",
    "    ensemble_file = ensemble_file_base + noise_level + \".mat\"\n",
    "    #analysis_file = \"../Ensembles_09132021/Analysis3LayerA_\" + noise_level + \".mat\"\n",
    "    #ensemble_file = \"../Ensembles_09132021/Ensemble_3LayerA_\" + noise_level + \".mat\"\n",
    "    # load the ensemble:\n",
    "    print(\"now on ensemble \"+ensemble_file)\n",
    "    x, z, log_rho, residuals ,ewre2n = load_analysis(analysis_file)\n",
    "    depth, rho, n_layer = load_ensemble(ensemble_file)\n",
    "            \n",
    "    # select a subset of the ensemble:\n",
    "    log_rho_samples = log_rho[keep_idx,:]\n",
    "    \n",
    "    estimator_list = ['L2','EMD','energy']\n",
    "    output_directory = date + \"/sequencer_output_\" + noise_level\n",
    "    scale_list = [[1],[1],[1]]\n",
    "\n",
    "    seq = sequencer.Sequencer(z.flatten(), log_rho_samples+offset, estimator_list,scale_list=scale_list)\n",
    "    final_elongation, final_sequence = seq.execute(output_directory,                                              \n",
    "                                                  to_average_N_best_estimators=True, \n",
    "                                                  number_of_best_estimators=2,\n",
    "                                                  to_calculate_distance_matrices=False,\n",
    "                                                  to_save_distance_matrices=False,\n",
    "                                                  distance_matrices_inpath=output_directory + \"/distance_matrices.pkl\")\n",
    "    \n",
    "    print(\"intermediate elongations for the different metrics and scales:\")\n",
    "    estimator_list, scale_list, elongation_list = seq.return_elongation_of_weighted_products_all_metrics_and_scales()\n",
    "    for i in range(len(estimator_list)):\n",
    "        print(\"metric=%s, scale=%s, elongation: %s\" % (estimator_list[i], \n",
    "                                                       scale_list[i], \n",
    "                                                       elongation_list[i]))\n",
    "        \n",
    "    # PLOTTING!!\n",
    "    xlabel = np.arange(n_keep)\n",
    "    zlabel = (z[0][0:-1]+z[0][1:])/2.0\n",
    "\n",
    "    vmin = np.min(log_rho_samples)\n",
    "    vmax = np.max(log_rho_samples)\n",
    "    #vmin = -1\n",
    "    #vmax = 7\n",
    "\n",
    "    import matplotlib.gridspec as gridspec\n",
    "    estimator_list, scale_list, sequence_list = seq.return_sequence_of_weighted_products_all_metrics_and_scales()\n",
    "\n",
    "    # fig, (ax0,ax1,ax2,ax3) = plt.subplots(1,4,figsize=(16,4))\n",
    "    fig = plt.figure(constrained_layout=True,figsize=(12,4))\n",
    "    spec = gridspec.GridSpec(ncols=4, nrows=2, figure=fig)\n",
    "    ax0 = fig.add_subplot(spec[0, 0])\n",
    "    ax1 = fig.add_subplot(spec[0, 1])\n",
    "    ax2 = fig.add_subplot(spec[0, 2])\n",
    "    ax3 = fig.add_subplot(spec[0, 3])\n",
    "\n",
    "    # sequence = final_sequence\n",
    "    ax0.pcolormesh(xlabel,z[0],log_rho_samples.T,vmin=vmin,vmax=vmax,rasterized=True)\n",
    "    ax0.set_title(\"Unordered Ensemble\")\n",
    "    ax0.set_yscale(\"log\")\n",
    "    ax0.invert_yaxis()\n",
    "    ax0.set_ylabel(\"Depth (m)\")\n",
    "\n",
    "    pcm = ax1.pcolormesh(xlabel,z[0],log_rho_samples[sequence_list[0],:].T,vmin=vmin,vmax=vmax,rasterized=True)\n",
    "    ax1.set_title(estimator_list[0])\n",
    "    ax1.set_yscale(\"log\")\n",
    "    ax1.invert_yaxis()\n",
    "\n",
    "    ax2.pcolormesh(xlabel,z[0],log_rho_samples[sequence_list[1],:].T,vmin=vmin,vmax=vmax,rasterized=True)\n",
    "    ax2.set_title(estimator_list[1])\n",
    "    ax2.set_yscale(\"log\")\n",
    "    ax2.invert_yaxis()\n",
    "\n",
    "    ax3.pcolormesh(xlabel,z[0],log_rho_samples[sequence_list[2],:].T,vmin=vmin,vmax=vmax,rasterized=True)\n",
    "    ax3.set_title(estimator_list[2])\n",
    "    ax3.set_yscale(\"log\")\n",
    "    ax3.invert_yaxis()\n",
    "    fig.colorbar(pcm,ax=ax3,shrink=0.8)\n",
    "    plt.savefig(date + \"/figure_ensemble_\" + noise_level + \".pdf\",dpi=300)\n",
    "    fig.show()"
   ]
  },
  {
   "cell_type": "code",
   "execution_count": 9,
   "id": "693eac53",
   "metadata": {},
   "outputs": [
    {
     "name": "stdout",
     "output_type": "stream",
     "text": [
      "(250000, 26)\n"
     ]
    },
    {
     "data": {
      "image/png": "[encoded data removed]",
      "text/plain": [
       "<Figure size 640x480 with 1 Axes>"
      ]
     },
     "metadata": {},
     "output_type": "display_data"
    }
   ],
   "source": [
    "ewre_keep = ewre2n[keep_idx]\n",
    "residual_keep = residuals[keep_idx,:]\n",
    "print(residuals.shape)\n",
    "\n",
    "plt.figure()\n",
    "plt.plot(residual_keep[sequence_list[1]])\n",
    "plt.show()"
   ]
  },
  {
   "cell_type": "code",
   "execution_count": null,
   "id": "4267b678",
   "metadata": {},
   "outputs": [],
   "source": [
    "estimator_list\n",
    "scale_list\n",
    "sequence_list"
   ]
  },
  {
   "cell_type": "code",
   "execution_count": null,
   "id": "577e371e",
   "metadata": {},
   "outputs": [],
   "source": [
    "keep_idx"
   ]
  },
  {
   "cell_type": "code",
   "execution_count": null,
   "id": "dad2c7a5",
   "metadata": {},
   "outputs": [],
   "source": []
  },
  {
   "cell_type": "code",
   "execution_count": 18,
   "id": "75a679d6",
   "metadata": {},
   "outputs": [
    {
     "data": {
      "text/plain": [
       "(array([   7.,   94.,  543., 1673., 3549., 4128., 1774.,  590.,  130.,\n",
       "          12.]),\n",
       " array([-0.88538993, -0.14301153,  0.59936688,  1.34174529,  2.08412369,\n",
       "         2.8265021 ,  3.5688805 ,  4.31125891,  5.05363731,  5.79601572,\n",
       "         6.53839412]),\n",
       " <BarContainer object of 10 artists>)"
      ]
     },
     "execution_count": 18,
     "metadata": {},
     "output_type": "execute_result"
    },
    {
     "data": {
      "image/png": "[encoded data removed]",
      "text/plain": [
       "<Figure size 640x480 with 1 Axes>"
      ]
     },
     "metadata": {},
     "output_type": "display_data"
    }
   ],
   "source": [
    "plt.hist(log_rho_samples[:,999].ravel())"
   ]
  },
  {
   "cell_type": "code",
   "execution_count": 16,
   "id": "d11b40f7",
   "metadata": {},
   "outputs": [
    {
     "data": {
      "text/plain": [
       "(12500, 1000)"
      ]
     },
     "execution_count": 16,
     "metadata": {},
     "output_type": "execute_result"
    }
   ],
   "source": [
    "log_rho_samples.shape"
   ]
  },
  {
   "cell_type": "code",
   "execution_count": null,
   "id": "ad83a240",
   "metadata": {},
   "outputs": [],
   "source": [
    "test = np.arange(0,log_rho.shape[0],int(log_rho.shape[0]/n_keep))\n",
    "test.shape"
   ]
  },
  {
   "cell_type": "code",
   "execution_count": null,
   "id": "45155a7f",
   "metadata": {},
   "outputs": [],
   "source": [
    "keep_idx.shape"
   ]
  },
  {
   "cell_type": "code",
   "execution_count": null,
   "id": "d87b1037",
   "metadata": {},
   "outputs": [],
   "source": [
    "test.dtype"
   ]
  },
  {
   "cell_type": "code",
   "execution_count": null,
   "id": "8515e5c0",
   "metadata": {},
   "outputs": [],
   "source": []
  }
 ],
 "metadata": {
  "kernelspec": {
   "display_name": "Python 3 (ipykernel)",
   "language": "python",
   "name": "python3"
  },
  "language_info": {
   "codemirror_mode": {
    "name": "ipython",
    "version": 3
   },
   "file_extension": ".py",
   "mimetype": "text/x-python",
   "name": "python",
   "nbconvert_exporter": "python",
   "pygments_lexer": "ipython3",
   "version": "3.10.11"
  }
 },
 "nbformat": 4,
 "nbformat_minor": 5
}
