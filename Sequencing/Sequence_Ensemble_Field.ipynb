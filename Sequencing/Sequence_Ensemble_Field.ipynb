{
 "cells": [
  {
   "cell_type": "markdown",
   "id": "185a7450",
   "metadata": {},
   "source": [
    "# Sequencing of Ensemble Solutions\n",
    "This notebook uses The Sequencer to analyze the ensembles produced by our 1D electrical resistivity inversions.\n",
    "1. Loading the output from MATLAB"
   ]
  },
  {
   "cell_type": "code",
   "execution_count": 11,
   "id": "7bf3c1be",
   "metadata": {},
   "outputs": [],
   "source": [
    "import numpy as np\n",
    "import matplotlib.pyplot as plt\n",
    "import sequencer\n",
    "from scipy.io import loadmat\n",
    "import h5py"
   ]
  },
  {
   "cell_type": "code",
   "execution_count": 13,
   "id": "9e8bc58f",
   "metadata": {},
   "outputs": [],
   "source": [
    "# define the files for each model run\n",
    "n_keep = 1000 # 12500\n",
    "offset = 0 # number that gets added to all log-rho values because EMD cannot deal with negative numbers\n",
    "\n",
    "date = \"02262024\"\n",
    "\n",
    "\n",
    "\n",
    "#analysis_file_base = \"../Ensembles_Constable1984_1_11082023/Analysis_Constable1984_\"\n",
    "#ensemble_file_base = \"../Ensembles_Constable1984_1_11082023/Ensemble_Constable1984_\"\n",
    "\n",
    "#analysis_file_base = \"../Ensembles_Constable_MalinvernoPrior/Analysis_Constable1984_\"\n",
    "#ensemble_file_base = \"../Ensembles_Constable_MalinvernoPrior/Ensemble_Constable1984_\"\n",
    "\n",
    "#analysis_file_base = \"../Ensemble_Constable_nohierarchical_small/Analysis_Constable1984_nohierarchical_\"\n",
    "#ensemble_file_base = \"../Ensemble_Constable_nohierarchical_small/Ensemble_Constable1984_nohierarchical_\"\n",
    "\n",
    "#analysis_file_base = \"../Ensembles_Constable_11202023/Analysis_Constable1984_Wauchope__hierarchical-1_rhoPrior-2_\"\n",
    "#ensemble_file_base = \"../Ensembles_Constable_11202023/Ensemble_Constable1984_Wauchope__hierarchical-1_rhoPrior-2_\"\n",
    "\n",
    "# analysis_file_base = \"../Ensembles_Constable_12182023/Analysis_Constable1984__hierarchical-1_rhoPrior-2_\"\n",
    "# ensemble_file_base = \"../Ensembles_Constable_12182023/Ensemble_Constable1984__hierarchical-1_rhoPrior-2_\"\n",
    "\n",
    "analysis_file_base = \"../Ensembles_01202024/Analysis_Constable1984__hierarchical-1_rhoPrior-2_\"\n",
    "ensemble_file_base = \"../Ensembles_01202024/Ensemble_Constable1984__hierarchical-1_rhoPrior-2_\"\n",
    "\n",
    "analysis_file_base = \"../Ensembles_Rener_02222024/Analysis_Constable1984_Renner__hierarchical-1_rhoPrior-2_1_22-Feb-2024\"\n",
    "ensemble_file_base = \"../Ensembles_Rener_02222024/Ensemble_Constable1984_Renner__hierarchical-1_rhoPrior-2_1_22-Feb-2024\"\n",
    "    \n",
    "    \n",
    "    \n",
    "def load_analysis(filename):\n",
    "    with h5py.File(filename, 'r') as file:\n",
    "        print(list(file.keys()))\n",
    "        log_rho = np.array(file[\"logRhoPlot\"]) # logarithm of resistivity\n",
    "        xVals = np.array(file[\"xVals\"]) # log-resistivity bins used in analyses\n",
    "        zVals = np.array(file[\"zVals\"]) # logarithm of depth\n",
    "        residuals = np.array(file[\"residuals\"])\n",
    "        ewre2n = np.array(file[\"ewre2n\"])\n",
    "    return xVals, zVals, log_rho, residuals, ewre2n\n",
    "              \n",
    "def load_ensemble(filename):\n",
    "    with h5py.File(filename, 'r') as file:        \n",
    "        depth = np.array(file[\"results\"][\"ensembleDepths\"])\n",
    "        rho = np.array(file[\"results\"][\"ensembleRhos\"])\n",
    "        n_layer = np.array(file[\"results\"][\"ensembleNumLayers\"])\n",
    "    return depth, rho, n_layer\n",
    "            \n",
    "# x, z, log_rho,residuals,ewre2n = load_analysis(analysis_file)\n",
    "# depth, rho, n_layer = load_ensemble(ensemble_file)"
   ]
  },
  {
   "cell_type": "code",
   "execution_count": null,
   "id": "8860c327",
   "metadata": {},
   "outputs": [],
   "source": [
    "# Note - doing pcolor for all of logrhoplot is very very slow. That's why the code is commented out!\n",
    "# plt.figure()\n",
    "# plt.pcolor(log_rho)\n",
    "# plt.colorbar()\n",
    "# plt.show()"
   ]
  },
  {
   "cell_type": "code",
   "execution_count": 10,
   "id": "3e457510",
   "metadata": {},
   "outputs": [
    {
     "ename": "TypeError",
     "evalue": "'function' object is not subscriptable",
     "output_type": "error",
     "traceback": [
      "\u001b[0;31m---------------------------------------------------------------------------\u001b[0m",
      "\u001b[0;31mTypeError\u001b[0m                                 Traceback (most recent call last)",
      "\u001b[0;32m/tmp/ipykernel_12296/3892587842.py\u001b[0m in \u001b[0;36m<module>\u001b[0;34m\u001b[0m\n\u001b[1;32m      1\u001b[0m \u001b[0mfig\u001b[0m\u001b[0;34m,\u001b[0m\u001b[0max\u001b[0m \u001b[0;34m=\u001b[0m \u001b[0mplt\u001b[0m\u001b[0;34m.\u001b[0m\u001b[0msubplots\u001b[0m\u001b[0;34m(\u001b[0m\u001b[0;36m1\u001b[0m\u001b[0;34m,\u001b[0m\u001b[0;36m1\u001b[0m\u001b[0;34m)\u001b[0m\u001b[0;34m\u001b[0m\u001b[0;34m\u001b[0m\u001b[0m\n\u001b[0;32m----> 2\u001b[0;31m \u001b[0mh\u001b[0m \u001b[0;34m=\u001b[0m \u001b[0max\u001b[0m\u001b[0;34m.\u001b[0m\u001b[0mpcolorfast\u001b[0m\u001b[0;34m(\u001b[0m\u001b[0mlog_rho_samples\u001b[0m\u001b[0;34m.\u001b[0m\u001b[0mT\u001b[0m\u001b[0;34m,\u001b[0m\u001b[0mcmap\u001b[0m\u001b[0;34m=\u001b[0m\u001b[0mplt\u001b[0m\u001b[0;34m.\u001b[0m\u001b[0mcolormaps\u001b[0m\u001b[0;34m[\u001b[0m\u001b[0;34m'jet'\u001b[0m\u001b[0;34m]\u001b[0m\u001b[0;34m)\u001b[0m\u001b[0;34m\u001b[0m\u001b[0;34m\u001b[0m\u001b[0m\n\u001b[0m\u001b[1;32m      3\u001b[0m \u001b[0mplt\u001b[0m\u001b[0;34m.\u001b[0m\u001b[0mcolorbar\u001b[0m\u001b[0;34m(\u001b[0m\u001b[0mh\u001b[0m\u001b[0;34m)\u001b[0m\u001b[0;34m\u001b[0m\u001b[0;34m\u001b[0m\u001b[0m\n\u001b[1;32m      4\u001b[0m \u001b[0mfig\u001b[0m\u001b[0;34m.\u001b[0m\u001b[0mshow\u001b[0m\u001b[0;34m(\u001b[0m\u001b[0;34m)\u001b[0m\u001b[0;34m\u001b[0m\u001b[0;34m\u001b[0m\u001b[0m\n",
      "\u001b[0;31mTypeError\u001b[0m: 'function' object is not subscriptable"
     ]
    },
    {
     "data": {
      "image/png": "[encoded data removed]",
      "text/plain": [
       "<Figure size 640x480 with 1 Axes>"
      ]
     },
     "metadata": {},
     "output_type": "display_data"
    }
   ],
   "source": [
    "fig,ax = plt.subplots(1,1)\n",
    "h = ax.pcolorfast(log_rho_samples.T,cmap=plt.colormaps['jet'])\n",
    "plt.colorbar(h)\n",
    "fig.show()"
   ]
  },
  {
   "cell_type": "code",
   "execution_count": 3,
   "id": "aa07a794",
   "metadata": {
    "scrolled": true
   },
   "outputs": [
    {
     "name": "stdout",
     "output_type": "stream",
     "text": [
      "now on ensemble ../Ensemble_Constable1984_Renner__hierarchical-1_rhoPrior-2_1_22-Feb-2024.mat\n",
      "['#refs#', '#subsystem#', 'allClusterSets', 'allModels', 'allPartitions', 'binCenters', 'ewre2n', 'logRhoPlot', 'nRhoBins', 'numElements', 'nzplot', 'residuals', 'xVals', 'yVals', 'zVals']\n",
      "offset= -1.7429030552222327\n",
      "Parallelization is ON. Number of cores: 40\n",
      "calculating the distance matrices for estimator: EMD, scale: 1\n",
      "finished calculating this distance matrix list, it took: 33.30716872215271 seconds\n",
      "calculating the distance matrices for estimator: EMD, scale: 2\n",
      "finished calculating this distance matrix list, it took: 87.8218731880188 seconds\n",
      "calculating the distance matrices for estimator: EMD, scale: 5\n",
      "finished calculating this distance matrix list, it took: 353.61063146591187 seconds\n",
      "calculating the distance matrices for estimator: EMD, scale: 10\n",
      "finished calculating this distance matrix list, it took: 582.1486542224884 seconds\n",
      "calculating the distance matrices for estimator: EMD, scale: 20\n",
      "finished calculating this distance matrix list, it took: 1480.3734464645386 seconds\n",
      "calculating the distance matrices for estimator: L2, scale: 1\n",
      "finished calculating this distance matrix list, it took: 48.026323556900024 seconds\n",
      "calculating the distance matrices for estimator: L2, scale: 2\n",
      "finished calculating this distance matrix list, it took: 107.65795922279358 seconds\n",
      "calculating the distance matrices for estimator: L2, scale: 5\n",
      "finished calculating this distance matrix list, it took: 288.72317934036255 seconds\n",
      "calculating the distance matrices for estimator: L2, scale: 10\n",
      "finished calculating this distance matrix list, it took: 555.9686110019684 seconds\n",
      "calculating the distance matrices for estimator: L2, scale: 20\n",
      "finished calculating this distance matrix list, it took: 1095.84015750885 seconds\n",
      "calculating the distance matrices for estimator: energy, scale: 1\n",
      "finished calculating this distance matrix list, it took: 36.41504430770874 seconds\n",
      "calculating the distance matrices for estimator: energy, scale: 2\n",
      "finished calculating this distance matrix list, it took: 207.48044776916504 seconds\n",
      "calculating the distance matrices for estimator: energy, scale: 5\n",
      "finished calculating this distance matrix list, it took: 356.83393573760986 seconds\n",
      "calculating the distance matrices for estimator: energy, scale: 10\n",
      "finished calculating this distance matrix list, it took: 558.9588854312897 seconds\n",
      "calculating the distance matrices for estimator: energy, scale: 20\n",
      "finished calculating this distance matrix list, it took: 1416.8706090450287 seconds\n",
      "calculating the distance matrices for estimator: KL, scale: 1\n",
      "finished calculating this distance matrix list, it took: 51.41788578033447 seconds\n",
      "calculating the distance matrices for estimator: KL, scale: 2\n",
      "finished calculating this distance matrix list, it took: 170.99288702011108 seconds\n",
      "calculating the distance matrices for estimator: KL, scale: 5\n",
      "finished calculating this distance matrix list, it took: 536.5309016704559 seconds\n",
      "calculating the distance matrices for estimator: KL, scale: 10\n",
      "finished calculating this distance matrix list, it took: 1058.1651377677917 seconds\n",
      "calculating the distance matrices for estimator: KL, scale: 20\n",
      "finished calculating this distance matrix list, it took: 2056.2697057724 seconds\n",
      "dumped the distance matrix dictionaries to the file: 02262024/sequencer_output_1/distance_matrices.pkl\n",
      "strating to sequence the different scales and estimators\n",
      "in estimator: EMD, scale: 1\n",
      "in estimator: EMD, scale: 2\n",
      "in estimator: EMD, scale: 5\n",
      "in estimator: EMD, scale: 10\n",
      "in estimator: EMD, scale: 20\n",
      "in estimator: L2, scale: 1\n",
      "in estimator: L2, scale: 2\n",
      "in estimator: L2, scale: 5\n",
      "in estimator: L2, scale: 10\n",
      "in estimator: L2, scale: 20\n",
      "in estimator: energy, scale: 1\n",
      "in estimator: energy, scale: 2\n",
      "in estimator: energy, scale: 5\n",
      "in estimator: energy, scale: 10\n",
      "in estimator: energy, scale: 20\n",
      "in estimator: KL, scale: 1\n",
      "in estimator: KL, scale: 2\n",
      "in estimator: KL, scale: 5\n",
      "in estimator: KL, scale: 10\n",
      "in estimator: KL, scale: 20\n",
      "dumped the elongations to the file: 02262024/sequencer_output_1/elongations.pkl\n",
      "dumped the full weighted distance matrix to the file: 02262024/sequencer_output_1/weighted_distance_matrix.pkl\n"
     ]
    },
    {
     "name": "stderr",
     "output_type": "stream",
     "text": [
      "/home/max/miniconda3/lib/python3.7/site-packages/sequencer/sequencer_.py:1025: RuntimeWarning: divide by zero encountered in true_divide\n",
      "  distance_matrix = 1.0 / proximity_matrix_copy\n"
     ]
    },
    {
     "name": "stdout",
     "output_type": "stream",
     "text": [
      "dumped the sparse distance matrix to the file: <_io.BufferedWriter name='02262024/sequencer_output_1/sparse_distance_matrix.pkl'>\n",
      "dumped the final sequences and elongation to the file: <_io.BufferedWriter name='02262024/sequencer_output_1/final_products.pkl'>\n"
     ]
    }
   ],
   "source": [
    "# noise_levels = [\"0.01\",\"0.02\",\"0.05\",\"0.1\",\"0.2\"]\n",
    "noise_levels = [\"1\"]\n",
    "all_keep_idx = []\n",
    "import os\n",
    "try:\n",
    "    os.mkdir(date)\n",
    "except:\n",
    "    pass\n",
    "\n",
    "# Sequence the log_rho samples and SAVE THE RESULTS FOR LATER USE!!\n",
    "for noise_level in noise_levels:\n",
    "    #     analysis_file = \"../Ensembles_09132021/Analysis3LayerA_\" + noise_level + \".mat\"\n",
    "    #     ensemble_file = \"../Ensembles_09132021/Ensemble_3LayerA_\" + noise_level + \".mat\"\n",
    "    analysis_file = analysis_file_base + \".mat\"\n",
    "    ensemble_file = ensemble_file_base + \".mat\"\n",
    "    # load the ensemble:\n",
    "    print(\"now on ensemble \"+ensemble_file)\n",
    "    x, z, log_rho, residuals ,ewre2n = load_analysis(analysis_file)\n",
    "    depth, rho, n_layer = load_ensemble(ensemble_file)\n",
    "    \n",
    "    # select a subset of the ensemble:\n",
    "    #keep_idx = np.random.permutation(log_rho.shape[0])[:n_keep]\n",
    "    keep_idx = np.arange(0,log_rho.shape[0],int(log_rho.shape[0]/n_keep))\n",
    "    all_keep_idx.append(keep_idx) # save the keep idx for later use\n",
    "    log_rho_samples = log_rho[keep_idx,:]\n",
    "    \n",
    "    offset = np.min(log_rho_samples)-1\n",
    "    print(\"offset=\",offset)\n",
    "    \n",
    "    assert( np.all(log_rho_samples - offset > 0) )\n",
    "    \n",
    "    estimator_list = ['EMD','L2','energy','KL']\n",
    "    output_directory = date + \"/sequencer_output_\" + noise_level\n",
    "    scale_list = [[1,2,5,10,20],[1,2,5,10,20],[1,2,5,10,20],[1,2,5,10,20]]\n",
    "    import os\n",
    "    try:\n",
    "        os.mkdir(output_directory)\n",
    "    except:\n",
    "        pass\n",
    "    seq = sequencer.Sequencer(z.flatten(), log_rho_samples - offset, estimator_list,scale_list=scale_list)\n",
    "    final_elongation, final_sequence = seq.execute(output_directory,                                              \n",
    "                                                  to_use_parallelization=True,\n",
    "                                                  to_average_N_best_estimators=True, \n",
    "                                                  number_of_best_estimators=2)\n",
    "np.save(date + \"/keep_indices.npy\",all_keep_idx)"
   ]
  },
  {
   "cell_type": "code",
   "execution_count": 28,
   "id": "56ca0671",
   "metadata": {
    "scrolled": true
   },
   "outputs": [
    {
     "name": "stdout",
     "output_type": "stream",
     "text": [
      "now on ensemble ../Ensembles_Rener_02222024/Ensemble_Constable1984_Renner__hierarchical-1_rhoPrior-2_1_22-Feb-2024.mat\n",
      "['#refs#', '#subsystem#', 'allClusterSets', 'allModels', 'allPartitions', 'binCenters', 'ewre2n', 'logRhoPlot', 'nRhoBins', 'numElements', 'nzplot', 'residuals', 'xVals', 'yVals', 'zVals']\n",
      "offset= -1.7429030552222327\n",
      "strating to sequence the different scales and estimators\n",
      "in estimator: L2, scale: 1\n",
      "in estimator: L2, scale: 2\n",
      "in estimator: L2, scale: 5\n",
      "in estimator: L2, scale: 10\n",
      "in estimator: L2, scale: 20\n",
      "in estimator: EMD, scale: 1\n",
      "in estimator: EMD, scale: 2\n",
      "in estimator: EMD, scale: 5\n",
      "in estimator: EMD, scale: 10\n",
      "in estimator: EMD, scale: 20\n",
      "in estimator: energy, scale: 1\n",
      "in estimator: energy, scale: 2\n",
      "in estimator: energy, scale: 5\n",
      "in estimator: energy, scale: 10\n",
      "in estimator: energy, scale: 20\n",
      "in estimator: KL, scale: 1\n",
      "in estimator: KL, scale: 2\n",
      "in estimator: KL, scale: 5\n",
      "in estimator: KL, scale: 10\n",
      "in estimator: KL, scale: 20\n",
      "dumped the elongations to the file: 02262024/sequencer_output_1/elongations.pkl\n",
      "dumped the full weighted distance matrix to the file: 02262024/sequencer_output_1/weighted_distance_matrix.pkl\n"
     ]
    },
    {
     "name": "stderr",
     "output_type": "stream",
     "text": [
      "/home/max/miniconda3/lib/python3.7/site-packages/sequencer/sequencer_.py:1025: RuntimeWarning: divide by zero encountered in true_divide\n",
      "  distance_matrix = 1.0 / proximity_matrix_copy\n"
     ]
    },
    {
     "name": "stdout",
     "output_type": "stream",
     "text": [
      "dumped the sparse distance matrix to the file: <_io.BufferedWriter name='02262024/sequencer_output_1/sparse_distance_matrix.pkl'>\n",
      "dumped the final sequences and elongation to the file: <_io.BufferedWriter name='02262024/sequencer_output_1/final_products.pkl'>\n",
      "intermediate elongations for the different metrics and scales:\n",
      "metric=L2, scale=1, elongation: 4.359096\n",
      "metric=L2, scale=2, elongation: 3.929024\n",
      "metric=L2, scale=5, elongation: 3.189318\n",
      "metric=L2, scale=10, elongation: 3.821126\n",
      "metric=L2, scale=20, elongation: 4.913919999999999\n",
      "metric=EMD, scale=1, elongation: 48.084988\n",
      "metric=EMD, scale=2, elongation: 45.282054\n",
      "metric=EMD, scale=5, elongation: 46.866496000000005\n",
      "metric=EMD, scale=10, elongation: 27.759750000000004\n",
      "metric=EMD, scale=20, elongation: 14.760999999999997\n",
      "metric=energy, scale=1, elongation: 16.500394\n",
      "metric=energy, scale=2, elongation: 10.4095\n",
      "metric=energy, scale=5, elongation: 17.612900000000003\n",
      "metric=energy, scale=10, elongation: 9.8827\n",
      "metric=energy, scale=20, elongation: 5.479988\n",
      "metric=KL, scale=1, elongation: 4.224016\n",
      "metric=KL, scale=2, elongation: 3.54408\n",
      "metric=KL, scale=5, elongation: 3.350982\n",
      "metric=KL, scale=10, elongation: 3.6151\n",
      "metric=KL, scale=20, elongation: 4.467295999999999\n"
     ]
    },
    {
     "ename": "AttributeError",
     "evalue": "module 'matplotlib.colors' has no attribute 'Colormaps'",
     "output_type": "error",
     "traceback": [
      "\u001b[0;31m---------------------------------------------------------------------------\u001b[0m",
      "\u001b[0;31mAttributeError\u001b[0m                            Traceback (most recent call last)",
      "\u001b[0;32m/tmp/ipykernel_12296/3032619645.py\u001b[0m in \u001b[0;36m<module>\u001b[0;34m\u001b[0m\n\u001b[1;32m     48\u001b[0m \u001b[0;31m#     vmin = -1\u001b[0m\u001b[0;34m\u001b[0m\u001b[0;34m\u001b[0m\u001b[0;34m\u001b[0m\u001b[0m\n\u001b[1;32m     49\u001b[0m     \u001b[0;31m#vmax = 6\u001b[0m\u001b[0;34m\u001b[0m\u001b[0;34m\u001b[0m\u001b[0;34m\u001b[0m\u001b[0m\n\u001b[0;32m---> 50\u001b[0;31m     \u001b[0mcmap\u001b[0m \u001b[0;34m=\u001b[0m \u001b[0mmpl\u001b[0m\u001b[0;34m.\u001b[0m\u001b[0mcolors\u001b[0m\u001b[0;34m.\u001b[0m\u001b[0mColormaps\u001b[0m\u001b[0;34m(\u001b[0m\u001b[0;34m'inferno'\u001b[0m\u001b[0;34m)\u001b[0m\u001b[0;34m\u001b[0m\u001b[0;34m\u001b[0m\u001b[0m\n\u001b[0m\u001b[1;32m     51\u001b[0m \u001b[0;34m\u001b[0m\u001b[0m\n\u001b[1;32m     52\u001b[0m     \u001b[0;32mimport\u001b[0m \u001b[0mmatplotlib\u001b[0m\u001b[0;34m.\u001b[0m\u001b[0mgridspec\u001b[0m \u001b[0;32mas\u001b[0m \u001b[0mgridspec\u001b[0m\u001b[0;34m\u001b[0m\u001b[0;34m\u001b[0m\u001b[0m\n",
      "\u001b[0;31mAttributeError\u001b[0m: module 'matplotlib.colors' has no attribute 'Colormaps'"
     ]
    }
   ],
   "source": [
    "# LOAD THE RESULTS AND PLOT! \n",
    "import matplotlib as mpl\n",
    "all_keep_idx = np.load(date + \"/keep_indices.npy\")\n",
    "noise_levels = [\"1\"]\n",
    "\n",
    "for noise_level,keep_idx in zip(noise_levels,all_keep_idx):\n",
    "    analysis_file = analysis_file_base + \".mat\"\n",
    "    ensemble_file = ensemble_file_base + \".mat\"\n",
    "    #analysis_file = \"../Ensembles_09132021/Analysis3LayerA_\" + noise_level + \".mat\"\n",
    "    #ensemble_file = \"../Ensembles_09132021/Ensemble_3LayerA_\" + noise_level + \".mat\"\n",
    "    # load the ensemble:\n",
    "    print(\"now on ensemble \"+ensemble_file)\n",
    "    x, z, log_rho, residuals ,ewre2n = load_analysis(analysis_file)\n",
    "    depth, rho, n_layer = load_ensemble(ensemble_file)\n",
    "            \n",
    "    # select a subset of the ensemble:\n",
    "    log_rho_samples = log_rho[keep_idx,:]\n",
    "\n",
    "    offset = np.min(log_rho_samples)-1\n",
    "    print(\"offset=\",offset)\n",
    "    \n",
    "    estimator_list = ['L2','EMD','energy','KL']\n",
    "    output_directory = date + \"/sequencer_output_\" + noise_level\n",
    "    scale_list = [[1,2,5,10,20],[1,2,5,10,20],[1,2,5,10,20],[1,2,5,10,20]]\n",
    "\n",
    "\n",
    "    seq = sequencer.Sequencer(z.flatten(), log_rho_samples - offset, estimator_list,scale_list=scale_list)\n",
    "    final_elongation, final_sequence = seq.execute(output_directory,                                              \n",
    "                                                  to_average_N_best_estimators=True, \n",
    "                                                  number_of_best_estimators=2,\n",
    "                                                  to_calculate_distance_matrices=False,\n",
    "                                                  to_save_distance_matrices=False,\n",
    "                                                  distance_matrices_inpath=output_directory + \"/distance_matrices.pkl\")\n",
    "    \n",
    "    print(\"intermediate elongations for the different metrics and scales:\")\n",
    "    estimator_list, scale_list, elongation_list = seq.return_elongation_of_weighted_products_all_metrics_and_scales()\n",
    "    for i in range(len(estimator_list)):\n",
    "        print(\"metric=%s, scale=%s, elongation: %s\" % (estimator_list[i], \n",
    "                                                       scale_list[i], \n",
    "                                                       elongation_list[i]))\n",
    "        \n",
    "    # PLOTTING!!\n",
    "    xlabel = np.arange(n_keep)\n",
    "    zlabel = (z[0][0:-1]+z[0][1:])/2.0\n",
    "\n",
    "    vmin = np.min(log_rho_samples)\n",
    "    vmax = np.max(log_rho_samples)\n",
    "#     vmin = -1\n",
    "    #vmax = 6\n",
    "    cmap = mpl.colors.Colormaps('inferno')\n",
    "\n",
    "    import matplotlib.gridspec as gridspec\n",
    "    estimator_list, scale_list, sequence_list = seq.return_sequence_of_weighted_products_all_metrics_and_scales()\n",
    "    \n",
    "    nscale=5;\n",
    "    for i in range(nscale):\n",
    "        # fig, (ax0,ax1,ax2,ax3) = plt.subplots(1,4,figsize=(16,4))\n",
    "        fig = plt.figure(constrained_layout=True,figsize=(12,4))\n",
    "        spec = gridspec.GridSpec(ncols=5, nrows=2, figure=fig)\n",
    "        ax0 = fig.add_subplot(spec[0, 0])\n",
    "        ax1 = fig.add_subplot(spec[0, 1])\n",
    "        ax2 = fig.add_subplot(spec[0, 2])\n",
    "        ax3 = fig.add_subplot(spec[0, 3])\n",
    "        ax4 = fig.add_subplot(spec[0, 4])\n",
    "\n",
    "        # sequence = final_sequence\n",
    "        ax0.pcolormesh(xlabel,z[0],log_rho_samples.T,vmin=vmin,vmax=vmax,rasterized=True)\n",
    "        ax0.set_title(\"Unordered Ensemble\")\n",
    "        ax0.set_yscale(\"log\")\n",
    "        ax0.invert_yaxis()\n",
    "        ax0.set_ylabel(\"Depth (m)\")\n",
    "\n",
    "        pcm = ax1.pcolormesh(xlabel,z[0],log_rho_samples[sequence_list[nscale*0+i],:].T,vmin=vmin,vmax=vmax,rasterized=True)\n",
    "        ax1.set_title(estimator_list[nscale*0+i])\n",
    "        ax1.set_yscale(\"log\")\n",
    "        ax1.invert_yaxis()\n",
    "\n",
    "        ax2.pcolormesh(xlabel,z[0],log_rho_samples[sequence_list[nscale*1+i],:].T,vmin=vmin,vmax=vmax,rasterized=True)\n",
    "        ax2.set_title(estimator_list[nscale*1+i])\n",
    "        ax2.set_yscale(\"log\")\n",
    "        ax2.invert_yaxis()\n",
    "\n",
    "        ax3.pcolormesh(xlabel,z[0],log_rho_samples[sequence_list[nscale*2+i],:].T,vmin=vmin,vmax=vmax,rasterized=True)\n",
    "        ax3.set_title(estimator_list[nscale*2+i])\n",
    "        ax3.set_yscale(\"log\")\n",
    "        ax3.invert_yaxis()\n",
    "\n",
    "        ax4.pcolormesh(xlabel,z[0],log_rho_samples[sequence_list[nscale*3+i],:].T,vmin=vmin,vmax=vmax,rasterized=True)\n",
    "        ax4.set_title(estimator_list[nscale*3+i])\n",
    "        ax4.set_yscale(\"log\")\n",
    "        ax4.invert_yaxis()\n",
    "\n",
    "        fig.colorbar(pcm,ax=ax4,shrink=0.8)\n",
    "        plt.savefig(date + \"/figure_ensemble_\" + noise_level + \"{:d}.pdf\".format(i),dpi=300)\n",
    "        fig.show()"
   ]
  },
  {
   "cell_type": "code",
   "execution_count": null,
   "id": "693eac53",
   "metadata": {},
   "outputs": [],
   "source": [
    "ewre_keep = ewre2n[keep_idx]\n",
    "residual_keep = residuals[keep_idx,:]\n",
    "print(residuals.shape)\n",
    "\n",
    "plt.figure()\n",
    "plt.plot(residual_keep[sequence_list[1]])\n",
    "plt.show()"
   ]
  },
  {
   "cell_type": "code",
   "execution_count": null,
   "id": "4267b678",
   "metadata": {},
   "outputs": [],
   "source": [
    "estimator_list\n",
    "scale_list\n",
    "# sequence_list"
   ]
  },
  {
   "cell_type": "code",
   "execution_count": null,
   "id": "577e371e",
   "metadata": {},
   "outputs": [],
   "source": [
    "keep_idx"
   ]
  },
  {
   "cell_type": "code",
   "execution_count": 27,
   "id": "dad2c7a5",
   "metadata": {},
   "outputs": [
    {
     "data": {
      "text/plain": [
       "<matplotlib.colors.Colormap at 0x7fb11691b110>"
      ]
     },
     "execution_count": 27,
     "metadata": {},
     "output_type": "execute_result"
    }
   ],
   "source": [
    "mpl.colors.Colormap('viridis')\n"
   ]
  },
  {
   "cell_type": "code",
   "execution_count": null,
   "id": "75a679d6",
   "metadata": {},
   "outputs": [],
   "source": [
    "plt.hist(log_rho_samples[:,999].ravel())"
   ]
  },
  {
   "cell_type": "code",
   "execution_count": null,
   "id": "d11b40f7",
   "metadata": {},
   "outputs": [],
   "source": [
    "log_rho_samples.shape"
   ]
  },
  {
   "cell_type": "code",
   "execution_count": null,
   "id": "ad83a240",
   "metadata": {},
   "outputs": [],
   "source": [
    "test = np.arange(0,log_rho.shape[0],int(log_rho.shape[0]/n_keep))\n",
    "test.shape"
   ]
  },
  {
   "cell_type": "code",
   "execution_count": null,
   "id": "45155a7f",
   "metadata": {},
   "outputs": [],
   "source": [
    "keep_idx.shape"
   ]
  },
  {
   "cell_type": "code",
   "execution_count": null,
   "id": "d87b1037",
   "metadata": {},
   "outputs": [],
   "source": [
    "test.dtype"
   ]
  },
  {
   "cell_type": "code",
   "execution_count": null,
   "id": "8515e5c0",
   "metadata": {},
   "outputs": [],
   "source": []
  }
 ],
 "metadata": {
  "kernelspec": {
   "display_name": "Python 3 (ipykernel)",
   "language": "python",
   "name": "python3"
  },
  "language_info": {
   "codemirror_mode": {
    "name": "ipython",
    "version": 3
   },
   "file_extension": ".py",
   "mimetype": "text/x-python",
   "name": "python",
   "nbconvert_exporter": "python",
   "pygments_lexer": "ipython3",
   "version": "3.7.16"
  }
 },
 "nbformat": 4,
 "nbformat_minor": 5
}
