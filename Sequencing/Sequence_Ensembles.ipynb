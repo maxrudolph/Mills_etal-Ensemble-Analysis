{
 "cells": [
  {
   "cell_type": "markdown",
   "id": "185a7450",
   "metadata": {},
   "source": [
    "# Sequencing of Ensemble Solutions\n",
    "This notebook uses The Sequencer to analyze the ensembles produced by our 1D electrical resistivity inversions.\n",
    "1. Loading the output from MATLAB"
   ]
  },
  {
   "cell_type": "code",
   "execution_count": 1,
   "id": "7bf3c1be",
   "metadata": {},
   "outputs": [],
   "source": [
    "import numpy as np\n",
    "import matplotlib.pyplot as plt\n",
    "import sequencer\n",
    "from scipy.io import loadmat\n",
    "import h5py"
   ]
  },
  {
   "cell_type": "code",
   "execution_count": 2,
   "id": "9e8bc58f",
   "metadata": {},
   "outputs": [],
   "source": [
    "# define the files for each model run\n",
    "n_keep = 12500\n",
    "offset = 10.0 # number that gets added to all log-rho values because EMD cannot deal with negative numbers\n",
    "\n",
    "date = \"07082023\"\n",
    "# date = \"09132021\"\n",
    "analysis_file_base = \"../Ensembles_07082023/Analysis_3LayerA_\"\n",
    "ensemble_file_base = \"../Ensembles_07082023/Ensemble_3LayerA_\"\n",
    "# analysis_file = \"../Ensembles_09132021/Analysis3LayerA_0.1.mat\"\n",
    "# ensemble_file = \"../Ensembles_09132021/Ensemble_3LayerA_0.1.mat\"\n",
    "    \n",
    "def load_analysis(filename):\n",
    "    with h5py.File(filename, 'r') as file:\n",
    "        print(list(file.keys()))\n",
    "        log_rho = np.array(file[\"logRhoPlot\"]) # logarithm of resistivity\n",
    "        xVals = np.array(file[\"xVals\"]) # log-resistivity bins used in analyses\n",
    "        zVals = np.array(file[\"zVals\"]) # logarithm of depth\n",
    "        residuals = np.array(file[\"residuals\"])\n",
    "        ewre2n = np.array(file[\"ewre2n\"])\n",
    "    return xVals, zVals, log_rho, residuals, ewre2n\n",
    "              \n",
    "def load_ensemble(filename):\n",
    "    with h5py.File(filename, 'r') as file:        \n",
    "        depth = np.array(file[\"results\"][\"ensembleDepths\"])\n",
    "        rho = np.array(file[\"results\"][\"ensembleRhos\"])\n",
    "        n_layer = np.array(file[\"results\"][\"ensembleNumLayers\"])\n",
    "    return depth, rho, n_layer\n",
    "            \n",
    "# x, z, log_rho,residuals,ewre2n = load_analysis(analysis_file)\n",
    "# depth, rho, n_layer = load_ensemble(ensemble_file)"
   ]
  },
  {
   "cell_type": "code",
   "execution_count": null,
   "id": "8860c327",
   "metadata": {},
   "outputs": [],
   "source": [
    "# Note - doing pcolor for all of logrhoplot is very very slow. That's why the code is commented out!\n",
    "# plt.figure()\n",
    "# plt.pcolor(log_rho)\n",
    "# plt.colorbar()\n",
    "# plt.show()"
   ]
  },
  {
   "cell_type": "code",
   "execution_count": null,
   "id": "3e457510",
   "metadata": {},
   "outputs": [
    {
     "ename": "NameError",
     "evalue": "name 'log_rho_samples' is not defined",
     "output_type": "error",
     "traceback": [
      "\u001b[0;31m---------------------------------------------------------------------------\u001b[0m",
      "\u001b[0;31mNameError\u001b[0m                                 Traceback (most recent call last)",
      "Cell \u001b[0;32mIn[4], line 2\u001b[0m\n\u001b[1;32m      1\u001b[0m fig,ax \u001b[38;5;241m=\u001b[39m plt\u001b[38;5;241m.\u001b[39msubplots(\u001b[38;5;241m1\u001b[39m,\u001b[38;5;241m1\u001b[39m)\n\u001b[0;32m----> 2\u001b[0m h \u001b[38;5;241m=\u001b[39m ax\u001b[38;5;241m.\u001b[39mpcolorfast(\u001b[43mlog_rho_samples\u001b[49m\u001b[38;5;241m.\u001b[39mT)\n\u001b[1;32m      3\u001b[0m plt\u001b[38;5;241m.\u001b[39mcolorbar(h)\n\u001b[1;32m      4\u001b[0m fig\u001b[38;5;241m.\u001b[39mshow()\n",
      "\u001b[0;31mNameError\u001b[0m: name 'log_rho_samples' is not defined"
     ]
    },
    {
     "data": {
      "image/png": "[encoded data removed]",
      "text/plain": [
       "<Figure size 640x480 with 1 Axes>"
      ]
     },
     "metadata": {},
     "output_type": "display_data"
    }
   ],
   "source": [
    "fig,ax = plt.subplots(1,1)\n",
    "h = ax.pcolorfast(log_rho_samples.T)\n",
    "plt.colorbar(h)\n",
    "fig.show()"
   ]
  },
  {
   "cell_type": "code",
   "execution_count": null,
   "id": "aa07a794",
   "metadata": {
    "scrolled": true
   },
   "outputs": [
    {
     "name": "stdout",
     "output_type": "stream",
     "text": [
      "now on ensemble ../Ensembles_07082023/Ensemble_3LayerA_0.02.mat\n",
      "['#refs#', '#subsystem#', 'allClusterSets', 'allModels', 'allPartitions', 'binCenters', 'ewre2n', 'logRhoPlot', 'nRhoBins', 'numElements', 'nzplot', 'residuals', 'xVals', 'yVals', 'zVals']\n",
      "Parallelization is ON. Number of cores: 32\n",
      "calculating the distance matrices for estimator: L2, scale: 1\n",
      "finished calculating this distance matrix list, it took: 192.76096200942993 seconds\n",
      "dumped the distance matrix dictionaries to the file: 07082023_L2_nooffset/sequencer_output_0.02/distance_matrices.pkl\n",
      "strating to sequence the different scales and estimators\n",
      "in estimator: L2, scale: 1\n",
      "dumped the elongations to the file: 07082023_L2_nooffset/sequencer_output_0.02/elongations.pkl\n",
      "dumped the full weighted distance matrix to the file: 07082023_L2_nooffset/sequencer_output_0.02/weighted_distance_matrix.pkl\n"
     ]
    },
    {
     "name": "stderr",
     "output_type": "stream",
     "text": [
      "/home/max/miniconda3/lib/python3.12/site-packages/TheSequencer-0.0.5-py3.12.egg/sequencer/sequencer_.py:1040: RuntimeWarning: divide by zero encountered in divide\n"
     ]
    },
    {
     "name": "stdout",
     "output_type": "stream",
     "text": [
      "dumped the sparse distance matrix to the file: <_io.BufferedWriter name='07082023_L2_nooffset/sequencer_output_0.02/sparse_distance_matrix.pkl'>\n",
      "dumped the final sequences and elongation to the file: <_io.BufferedWriter name='07082023_L2_nooffset/sequencer_output_0.02/final_products.pkl'>\n",
      "now on ensemble ../Ensembles_07082023/Ensemble_3LayerA_0.05.mat\n",
      "['#refs#', '#subsystem#', 'allClusterSets', 'allModels', 'allPartitions', 'binCenters', 'ewre2n', 'logRhoPlot', 'nRhoBins', 'numElements', 'nzplot', 'residuals', 'xVals', 'yVals', 'zVals']\n",
      "Parallelization is ON. Number of cores: 32\n",
      "calculating the distance matrices for estimator: L2, scale: 1\n",
      "finished calculating this distance matrix list, it took: 186.553386926651 seconds\n",
      "dumped the distance matrix dictionaries to the file: 07082023_L2_nooffset/sequencer_output_0.05/distance_matrices.pkl\n",
      "strating to sequence the different scales and estimators\n",
      "in estimator: L2, scale: 1\n",
      "dumped the elongations to the file: 07082023_L2_nooffset/sequencer_output_0.05/elongations.pkl\n",
      "dumped the full weighted distance matrix to the file: 07082023_L2_nooffset/sequencer_output_0.05/weighted_distance_matrix.pkl\n",
      "dumped the sparse distance matrix to the file: <_io.BufferedWriter name='07082023_L2_nooffset/sequencer_output_0.05/sparse_distance_matrix.pkl'>\n",
      "dumped the final sequences and elongation to the file: <_io.BufferedWriter name='07082023_L2_nooffset/sequencer_output_0.05/final_products.pkl'>\n",
      "now on ensemble ../Ensembles_07082023/Ensemble_3LayerA_0.1.mat\n",
      "['#refs#', '#subsystem#', 'allClusterSets', 'allModels', 'allPartitions', 'binCenters', 'ewre2n', 'logRhoPlot', 'nRhoBins', 'numElements', 'nzplot', 'residuals', 'xVals', 'yVals', 'zVals']\n",
      "Parallelization is ON. Number of cores: 32\n",
      "calculating the distance matrices for estimator: L2, scale: 1\n"
     ]
    },
    {
     "ename": "AssertionError",
     "evalue": "during the splitting into chunks, a chunk resulted in a negative or zero sum, which means that the chunk cannot be normalized. The user should consider adding an offset to all the objects",
     "output_type": "error",
     "traceback": [
      "\u001b[0;31m---------------------------------------------------------------------------\u001b[0m",
      "\u001b[0;31mAssertionError\u001b[0m                            Traceback (most recent call last)",
      "Cell \u001b[0;32mIn[5], line 36\u001b[0m\n\u001b[1;32m     34\u001b[0m         \u001b[38;5;28;01mpass\u001b[39;00m\n\u001b[1;32m     35\u001b[0m     seq \u001b[38;5;241m=\u001b[39m sequencer\u001b[38;5;241m.\u001b[39mSequencer(z\u001b[38;5;241m.\u001b[39mflatten(), log_rho_samples\u001b[38;5;241m+\u001b[39moffset, estimator_list,scale_list\u001b[38;5;241m=\u001b[39mscale_list)\n\u001b[0;32m---> 36\u001b[0m     final_elongation, final_sequence \u001b[38;5;241m=\u001b[39m \u001b[43mseq\u001b[49m\u001b[38;5;241;43m.\u001b[39;49m\u001b[43mexecute\u001b[49m\u001b[43m(\u001b[49m\u001b[43moutput_directory\u001b[49m\u001b[43m,\u001b[49m\u001b[43m                                              \u001b[49m\n\u001b[1;32m     37\u001b[0m \u001b[43m                                                  \u001b[49m\u001b[43mto_use_parallelization\u001b[49m\u001b[38;5;241;43m=\u001b[39;49m\u001b[38;5;28;43;01mTrue\u001b[39;49;00m\u001b[43m,\u001b[49m\n\u001b[1;32m     38\u001b[0m \u001b[43m                                                  \u001b[49m\u001b[43mto_average_N_best_estimators\u001b[49m\u001b[38;5;241;43m=\u001b[39;49m\u001b[38;5;28;43;01mTrue\u001b[39;49;00m\u001b[43m,\u001b[49m\u001b[43m \u001b[49m\n\u001b[1;32m     39\u001b[0m \u001b[43m                                                  \u001b[49m\u001b[43mnumber_of_best_estimators\u001b[49m\u001b[38;5;241;43m=\u001b[39;49m\u001b[38;5;241;43m2\u001b[39;49m\u001b[43m)\u001b[49m\n\u001b[1;32m     40\u001b[0m np\u001b[38;5;241m.\u001b[39msave(date \u001b[38;5;241m+\u001b[39m \u001b[38;5;124m\"\u001b[39m\u001b[38;5;124m/keep_indices.npy\u001b[39m\u001b[38;5;124m\"\u001b[39m,all_keep_idx)\n",
      "File \u001b[0;32m~/miniconda3/lib/python3.12/site-packages/TheSequencer-0.0.5-py3.12.egg/sequencer/sequencer_.py:256\u001b[0m, in \u001b[0;36mSequencer.execute\u001b[0;34m(self, outpath, to_print_progress, to_calculate_distance_matrices, to_save_distance_matrices, distance_matrices_inpath, to_save_elongations, to_average_N_best_estimators, number_of_best_estimators, to_use_parallelization, num_cores)\u001b[0m\n\u001b[1;32m    253\u001b[0m     distance_matrix_dictionary \u001b[38;5;241m=\u001b[39m \u001b[38;5;28mself\u001b[39m\u001b[38;5;241m.\u001b[39m_load_distance_matrices_from_path()\n\u001b[1;32m    255\u001b[0m \u001b[38;5;28;01melse\u001b[39;00m:\n\u001b[0;32m--> 256\u001b[0m     distance_matrix_dictionary \u001b[38;5;241m=\u001b[39m \u001b[38;5;28;43mself\u001b[39;49m\u001b[38;5;241;43m.\u001b[39;49m\u001b[43m_return_distance_matrix_dictionary_for_estimators_and_scales\u001b[49m\u001b[43m(\u001b[49m\u001b[43m)\u001b[49m\n\u001b[1;32m    257\u001b[0m     \u001b[38;5;66;03m# save it if neccessary\u001b[39;00m\n\u001b[1;32m    258\u001b[0m     \u001b[38;5;28;01mif\u001b[39;00m \u001b[38;5;28mself\u001b[39m\u001b[38;5;241m.\u001b[39mto_save_distance_matrices \u001b[38;5;241m==\u001b[39m \u001b[38;5;28;01mTrue\u001b[39;00m:\n",
      "File \u001b[0;32m~/miniconda3/lib/python3.12/site-packages/TheSequencer-0.0.5-py3.12.egg/sequencer/sequencer_.py:1112\u001b[0m, in \u001b[0;36mSequencer._return_distance_matrix_dictionary_for_estimators_and_scales\u001b[0;34m(self)\u001b[0m\n\u001b[1;32m   1110\u001b[0m \u001b[38;5;66;03m# divide the objects into chunks according to the scale\u001b[39;00m\n\u001b[1;32m   1111\u001b[0m N_chunks \u001b[38;5;241m=\u001b[39m scale_value\n\u001b[0;32m-> 1112\u001b[0m grid_splitted, objects_list_splitted \u001b[38;5;241m=\u001b[39m \u001b[38;5;28;43mself\u001b[39;49m\u001b[38;5;241;43m.\u001b[39;49m\u001b[43m_divide_to_chunks\u001b[49m\u001b[43m(\u001b[49m\u001b[38;5;28;43mself\u001b[39;49m\u001b[38;5;241;43m.\u001b[39;49m\u001b[43mgrid\u001b[49m\u001b[43m,\u001b[49m\u001b[43m \u001b[49m\u001b[43mnumpy\u001b[49m\u001b[38;5;241;43m.\u001b[39;49m\u001b[43mcopy\u001b[49m\u001b[43m(\u001b[49m\u001b[38;5;28;43mself\u001b[39;49m\u001b[38;5;241;43m.\u001b[39;49m\u001b[43mobjects_list\u001b[49m\u001b[43m)\u001b[49m\u001b[43m,\u001b[49m\u001b[43m \u001b[49m\u001b[43mN_chunks\u001b[49m\u001b[43m)\u001b[49m\n\u001b[1;32m   1113\u001b[0m \u001b[38;5;66;03m# construct the distance matrix list for this given scale\u001b[39;00m\n\u001b[1;32m   1114\u001b[0m distance_matrix_list \u001b[38;5;241m=\u001b[39m []\n",
      "File \u001b[0;32m~/miniconda3/lib/python3.12/site-packages/TheSequencer-0.0.5-py3.12.egg/sequencer/sequencer_.py:742\u001b[0m, in \u001b[0;36mSequencer._divide_to_chunks\u001b[0;34m(self, grid, objects_list, N_chunks)\u001b[0m\n\u001b[1;32m    739\u001b[0m \u001b[38;5;28;01massert\u001b[39;00m ((\u001b[38;5;28mlen\u001b[39m(grid\u001b[38;5;241m.\u001b[39mshape) \u001b[38;5;241m==\u001b[39m \u001b[38;5;241m1\u001b[39m) \u001b[38;5;129;01mor\u001b[39;00m (\u001b[38;5;28mlen\u001b[39m(grid\u001b[38;5;241m.\u001b[39mshape) \u001b[38;5;241m==\u001b[39m \u001b[38;5;241m2\u001b[39m)), \u001b[38;5;124m\"\u001b[39m\u001b[38;5;124mobjects can be either 1D or 2D\u001b[39m\u001b[38;5;124m\"\u001b[39m\n\u001b[1;32m    741\u001b[0m \u001b[38;5;28;01mif\u001b[39;00m \u001b[38;5;28mlen\u001b[39m(grid\u001b[38;5;241m.\u001b[39mshape) \u001b[38;5;241m==\u001b[39m \u001b[38;5;241m1\u001b[39m:\n\u001b[0;32m--> 742\u001b[0m     \u001b[38;5;28;01mreturn\u001b[39;00m \u001b[38;5;28;43mself\u001b[39;49m\u001b[38;5;241;43m.\u001b[39;49m\u001b[43m_divide_to_chunks_1D\u001b[49m\u001b[43m(\u001b[49m\u001b[43mgrid\u001b[49m\u001b[43m,\u001b[49m\u001b[43m \u001b[49m\u001b[43mobjects_list\u001b[49m\u001b[43m,\u001b[49m\u001b[43m \u001b[49m\u001b[43mN_chunks\u001b[49m\u001b[43m)\u001b[49m\n\u001b[1;32m    743\u001b[0m \u001b[38;5;28;01mif\u001b[39;00m \u001b[38;5;28mlen\u001b[39m(grid\u001b[38;5;241m.\u001b[39mshape) \u001b[38;5;241m==\u001b[39m \u001b[38;5;241m2\u001b[39m:\n\u001b[1;32m    744\u001b[0m     \u001b[38;5;28;01mreturn\u001b[39;00m \u001b[38;5;28mself\u001b[39m\u001b[38;5;241m.\u001b[39m_divide_to_chunks_2D(grid, objects_list, N_chunks)\n",
      "File \u001b[0;32m~/miniconda3/lib/python3.12/site-packages/TheSequencer-0.0.5-py3.12.egg/sequencer/sequencer_.py:682\u001b[0m, in \u001b[0;36mSequencer._divide_to_chunks_1D\u001b[0;34m(self, grid, objects_list, N_chunks)\u001b[0m\n\u001b[1;32m    680\u001b[0m sum_vec \u001b[38;5;241m=\u001b[39m numpy\u001b[38;5;241m.\u001b[39msum(objects_list_chunk, axis\u001b[38;5;241m=\u001b[39m\u001b[38;5;241m-\u001b[39m\u001b[38;5;241m1\u001b[39m)\n\u001b[1;32m    681\u001b[0m \u001b[38;5;28;01mfor\u001b[39;00m sum_val \u001b[38;5;129;01min\u001b[39;00m sum_vec:\n\u001b[0;32m--> 682\u001b[0m     \u001b[38;5;28;01massert\u001b[39;00m (sum_val \u001b[38;5;241m>\u001b[39m \u001b[38;5;241m0\u001b[39m), \u001b[38;5;124m\"\u001b[39m\u001b[38;5;124mduring the splitting into chunks, a chunk resulted in a negative or zero sum, which means that the chunk cannot be normalized. The user should consider adding an offset to all the objects\u001b[39m\u001b[38;5;124m\"\u001b[39m\n\u001b[1;32m    683\u001b[0m object_list_chunk_norm \u001b[38;5;241m=\u001b[39m objects_list_chunk \u001b[38;5;241m/\u001b[39m sum_vec[:, numpy\u001b[38;5;241m.\u001b[39mnewaxis]\n\u001b[1;32m    684\u001b[0m objects_list_split_normalised\u001b[38;5;241m.\u001b[39mappend(object_list_chunk_norm)\n",
      "\u001b[0;31mAssertionError\u001b[0m: during the splitting into chunks, a chunk resulted in a negative or zero sum, which means that the chunk cannot be normalized. The user should consider adding an offset to all the objects"
     ]
    }
   ],
   "source": [
    "# noise_levels = [\"0.01\",\"0.02\",\"0.05\",\"0.1\",\"0.2\"]\n",
    "noise_levels = [\"0.02\",\"0.05\",\"0.1\"]\n",
    "all_keep_idx = []\n",
    "import os\n",
    "try:\n",
    "    os.mkdir(date)\n",
    "except:\n",
    "    pass\n",
    "\n",
    "# Sequence the log_rho samples and SAVE THE RESULTS FOR LATER USE!!\n",
    "for noise_level in noise_levels:\n",
    "    #     analysis_file = \"../Ensembles_09132021/Analysis3LayerA_\" + noise_level + \".mat\"\n",
    "    #     ensemble_file = \"../Ensembles_09132021/Ensemble_3LayerA_\" + noise_level + \".mat\"\n",
    "    analysis_file = analysis_file_base + noise_level + \".mat\"\n",
    "    ensemble_file = ensemble_file_base + noise_level + \".mat\"\n",
    "    # load the ensemble:\n",
    "    print(\"now on ensemble \"+ensemble_file)\n",
    "    x, z, log_rho, residuals ,ewre2n = load_analysis(analysis_file)\n",
    "    depth, rho, n_layer = load_ensemble(ensemble_file)\n",
    "    \n",
    "    # select a subset of the ensemble:\n",
    "    #keep_idx = np.random.permutation(log_rho.shape[0])[:n_keep]\n",
    "    keep_idx = np.arange(0,log_rho.shape[0],int(log_rho.shape[0]/n_keep))\n",
    "    all_keep_idx.append(keep_idx) # save the keep idx for later use\n",
    "    log_rho_samples = log_rho[keep_idx,:]\n",
    "    \n",
    "    estimator_list = ['L2']#['EMD','L2','energy']\n",
    "    output_directory = date + \"/sequencer_output_\" + noise_level\n",
    "    scale_list = [[1],]#[[1],[1],[1]]\n",
    "    import os\n",
    "    try:\n",
    "        os.mkdir(output_directory)\n",
    "    except:\n",
    "        pass\n",
    "    seq = sequencer.Sequencer(z.flatten(), log_rho_samples+offset, estimator_list,scale_list=scale_list)\n",
    "    final_elongation, final_sequence = seq.execute(output_directory,                                              \n",
    "                                                  to_use_parallelization=True,\n",
    "                                                  to_average_N_best_estimators=True, \n",
    "                                                  number_of_best_estimators=2)\n",
    "np.save(date + \"/keep_indices.npy\",all_keep_idx)\n",
    "    \n"
   ]
  },
  {
   "cell_type": "code",
   "execution_count": null,
   "id": "56ca0671",
   "metadata": {
    "scrolled": true
   },
   "outputs": [],
   "source": [
    "# LOAD THE RESULTS AND PLOT!    \n",
    "all_keep_idx = np.load(date + \"/keep_indices.npy\")\n",
    "noise_levels = [\"0.02\",\"0.05\",\"0.1\"]\n",
    "\n",
    "for noise_level,keep_idx in zip(noise_levels,all_keep_idx):\n",
    "    analysis_file = analysis_file_base + noise_level + \".mat\"\n",
    "    ensemble_file = ensemble_file_base + noise_level + \".mat\"\n",
    "    #analysis_file = \"../Ensembles_09132021/Analysis3LayerA_\" + noise_level + \".mat\"\n",
    "    #ensemble_file = \"../Ensembles_09132021/Ensemble_3LayerA_\" + noise_level + \".mat\"\n",
    "    # load the ensemble:\n",
    "    print(\"now on ensemble \"+ensemble_file)\n",
    "    x, z, log_rho, residuals ,ewre2n = load_analysis(analysis_file)\n",
    "    depth, rho, n_layer = load_ensemble(ensemble_file)\n",
    "            \n",
    "    # select a subset of the ensemble:\n",
    "    log_rho_samples = log_rho[keep_idx,:]\n",
    "    \n",
    "    estimator_list = ['EMD','L2','energy']\n",
    "    output_directory = date + \"/sequencer_output_\" + noise_level\n",
    "    scale_list = [[1],[1],[1]]\n",
    "\n",
    "    seq = sequencer.Sequencer(z.flatten(), log_rho_samples+offset, estimator_list,scale_list=scale_list)\n",
    "    final_elongation, final_sequence = seq.execute(output_directory,                                              \n",
    "                                                  to_average_N_best_estimators=True, \n",
    "                                                  number_of_best_estimators=2,\n",
    "                                                  to_calculate_distance_matrices=False,\n",
    "                                                  to_save_distance_matrices=False,\n",
    "                                                  distance_matrices_inpath=output_directory + \"/distance_matrices.pkl\")\n",
    "    \n",
    "    print(\"intermediate elongations for the different metrics and scales:\")\n",
    "    estimator_list, scale_list, elongation_list = seq.return_elongation_of_weighted_products_all_metrics_and_scales()\n",
    "    for i in range(len(estimator_list)):\n",
    "        print(\"metric=%s, scale=%s, elongation: %s\" % (estimator_list[i], \n",
    "                                                       scale_list[i], \n",
    "                                                       elongation_list[i]))\n",
    "        \n",
    "    # PLOTTING!!\n",
    "    xlabel = np.arange(n_keep)\n",
    "    zlabel = (z[0][0:-1]+z[0][1:])/2.0\n",
    "\n",
    "    vmin = np.min(log_rho_samples)\n",
    "    vmax = np.max(log_rho_samples)\n",
    "    vmin = -1\n",
    "    vmax = 4\n",
    "\n",
    "    import matplotlib.gridspec as gridspec\n",
    "    estimator_list, scale_list, sequence_list = seq.return_sequence_of_weighted_products_all_metrics_and_scales()\n",
    "\n",
    "    # fig, (ax0,ax1,ax2,ax3) = plt.subplots(1,4,figsize=(16,4))\n",
    "    fig = plt.figure(constrained_layout=True,figsize=(12,4))\n",
    "    spec = gridspec.GridSpec(ncols=4, nrows=2, figure=fig)\n",
    "    ax0 = fig.add_subplot(spec[0, 0])\n",
    "    ax1 = fig.add_subplot(spec[0, 1])\n",
    "    ax2 = fig.add_subplot(spec[0, 2])\n",
    "    ax3 = fig.add_subplot(spec[0, 3])\n",
    "\n",
    "    # sequence = final_sequence\n",
    "    ax0.pcolormesh(xlabel,z[0],log_rho_samples.T,vmin=vmin,vmax=vmax,rasterized=True)\n",
    "    ax0.set_title(\"Unordered Ensemble\")\n",
    "    ax0.set_yscale(\"log\")\n",
    "    ax0.invert_yaxis()\n",
    "    ax0.set_ylabel(\"Depth (m)\")\n",
    "\n",
    "    pcm = ax1.pcolormesh(xlabel,z[0],log_rho_samples[sequence_list[0],:].T,vmin=vmin,vmax=vmax,rasterized=True)\n",
    "    ax1.set_title(estimator_list[0])\n",
    "    ax1.set_yscale(\"log\")\n",
    "    ax1.invert_yaxis()\n",
    "\n",
    "    ax2.pcolormesh(xlabel,z[0],log_rho_samples[sequence_list[1],:].T,vmin=vmin,vmax=vmax,rasterized=True)\n",
    "    ax2.set_title(estimator_list[1])\n",
    "    ax2.set_yscale(\"log\")\n",
    "    ax2.invert_yaxis()\n",
    "\n",
    "    ax3.pcolormesh(xlabel,z[0],log_rho_samples[sequence_list[2],:].T,vmin=vmin,vmax=vmax,rasterized=True)\n",
    "    ax3.set_title(estimator_list[2])\n",
    "    ax3.set_yscale(\"log\")\n",
    "    ax3.invert_yaxis()\n",
    "    fig.colorbar(pcm,ax=ax3,shrink=0.8)\n",
    "    plt.savefig(date + \"/figure_ensemble_\" + noise_level + \".pdf\",dpi=300)\n",
    "    fig.show()"
   ]
  },
  {
   "cell_type": "code",
   "execution_count": 3,
   "id": "693eac53",
   "metadata": {},
   "outputs": [
    {
     "ename": "NameError",
     "evalue": "name 'ewre2n' is not defined",
     "output_type": "error",
     "traceback": [
      "\u001b[0;31m---------------------------------------------------------------------------\u001b[0m",
      "\u001b[0;31mNameError\u001b[0m                                 Traceback (most recent call last)",
      "\u001b[0;32m/tmp/ipykernel_1132875/341426330.py\u001b[0m in \u001b[0;36m<module>\u001b[0;34m\u001b[0m\n\u001b[0;32m----> 1\u001b[0;31m \u001b[0mewre_keep\u001b[0m \u001b[0;34m=\u001b[0m \u001b[0mewre2n\u001b[0m\u001b[0;34m[\u001b[0m\u001b[0mkeep_idx\u001b[0m\u001b[0;34m]\u001b[0m\u001b[0;34m\u001b[0m\u001b[0;34m\u001b[0m\u001b[0m\n\u001b[0m\u001b[1;32m      2\u001b[0m \u001b[0mresidual_keep\u001b[0m \u001b[0;34m=\u001b[0m \u001b[0mresiduals\u001b[0m\u001b[0;34m[\u001b[0m\u001b[0mkeep_idx\u001b[0m\u001b[0;34m,\u001b[0m\u001b[0;34m:\u001b[0m\u001b[0;34m]\u001b[0m\u001b[0;34m\u001b[0m\u001b[0;34m\u001b[0m\u001b[0m\n\u001b[1;32m      3\u001b[0m \u001b[0mprint\u001b[0m\u001b[0;34m(\u001b[0m\u001b[0mresiduals\u001b[0m\u001b[0;34m.\u001b[0m\u001b[0mshape\u001b[0m\u001b[0;34m)\u001b[0m\u001b[0;34m\u001b[0m\u001b[0;34m\u001b[0m\u001b[0m\n\u001b[1;32m      4\u001b[0m \u001b[0;34m\u001b[0m\u001b[0m\n\u001b[1;32m      5\u001b[0m \u001b[0mplt\u001b[0m\u001b[0;34m.\u001b[0m\u001b[0mfigure\u001b[0m\u001b[0;34m(\u001b[0m\u001b[0;34m)\u001b[0m\u001b[0;34m\u001b[0m\u001b[0;34m\u001b[0m\u001b[0m\n",
      "\u001b[0;31mNameError\u001b[0m: name 'ewre2n' is not defined"
     ]
    }
   ],
   "source": [
    "ewre_keep = ewre2n[keep_idx]\n",
    "residual_keep = residuals[keep_idx,:]\n",
    "print(residuals.shape)\n",
    "\n",
    "plt.figure()\n",
    "plt.plot(residual_keep[sequence_list[1]])\n",
    "plt.show()"
   ]
  },
  {
   "cell_type": "code",
   "execution_count": null,
   "id": "4267b678",
   "metadata": {},
   "outputs": [],
   "source": [
    "estimator_list\n",
    "scale_list\n",
    "sequence_list"
   ]
  },
  {
   "cell_type": "code",
   "execution_count": null,
   "id": "577e371e",
   "metadata": {},
   "outputs": [],
   "source": [
    "keep_idx"
   ]
  },
  {
   "cell_type": "code",
   "execution_count": null,
   "id": "dad2c7a5",
   "metadata": {},
   "outputs": [],
   "source": []
  },
  {
   "cell_type": "code",
   "execution_count": null,
   "id": "75a679d6",
   "metadata": {},
   "outputs": [],
   "source": [
    "plt.hist(log_rho_samples.ravel())"
   ]
  },
  {
   "cell_type": "code",
   "execution_count": null,
   "id": "d11b40f7",
   "metadata": {},
   "outputs": [],
   "source": [
    "log_rho_samples.shape[0]"
   ]
  },
  {
   "cell_type": "code",
   "execution_count": null,
   "id": "ad83a240",
   "metadata": {},
   "outputs": [],
   "source": [
    "test = np.arange(0,log_rho.shape[0],int(log_rho.shape[0]/n_keep))\n",
    "test.shape"
   ]
  },
  {
   "cell_type": "code",
   "execution_count": null,
   "id": "45155a7f",
   "metadata": {},
   "outputs": [],
   "source": [
    "keep_idx.shape"
   ]
  },
  {
   "cell_type": "code",
   "execution_count": null,
   "id": "d87b1037",
   "metadata": {},
   "outputs": [],
   "source": [
    "test.dtype"
   ]
  },
  {
   "cell_type": "code",
   "execution_count": null,
   "id": "8515e5c0",
   "metadata": {},
   "outputs": [],
   "source": []
  }
 ],
 "metadata": {
  "kernelspec": {
   "display_name": "Python 3 (ipykernel)",
   "language": "python",
   "name": "python3"
  },
  "language_info": {
   "codemirror_mode": {
    "name": "ipython",
    "version": 3
   },
   "file_extension": ".py",
   "mimetype": "text/x-python",
   "name": "python",
   "nbconvert_exporter": "python",
   "pygments_lexer": "ipython3",
   "version": "3.12.3"
  }
 },
 "nbformat": 4,
 "nbformat_minor": 5
}
