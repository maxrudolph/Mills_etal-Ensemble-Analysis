{
 "cells": [
  {
   "cell_type": "markdown",
   "id": "185a7450",
   "metadata": {},
   "source": [
    "# Sequencing of Ensemble Solutions\n",
    "This notebook uses The Sequencer to analyze the ensembles produced by our 1D electrical resistivity inversions.\n",
    "1. Loading the output from MATLAB"
   ]
  },
  {
   "cell_type": "code",
   "execution_count": 1,
   "id": "7bf3c1be",
   "metadata": {},
   "outputs": [],
   "source": [
    "import numpy as np\n",
    "import matplotlib.pyplot as plt\n",
    "import sequencer\n",
    "from scipy.io import loadmat\n",
    "import h5py"
   ]
  },
  {
   "cell_type": "code",
   "execution_count": 2,
   "id": "9e8bc58f",
   "metadata": {},
   "outputs": [],
   "source": [
    "# define the files for each model run\n",
    "n_keep = 12500\n",
    "offset = 10.0 # number that gets added to all log-rho values because EMD cannot deal with negative numbers\n",
    "\n",
    "date = \"07082023\"\n",
    "# date = \"09132021\"\n",
    "analysis_file_base = \"../Ensembles_07082023/Analysis_3LayerA_\"\n",
    "ensemble_file_base = \"../Ensembles_07082023/Ensemble_3LayerA_\"\n",
    "# analysis_file = \"../Ensembles_09132021/Analysis3LayerA_0.1.mat\"\n",
    "# ensemble_file = \"../Ensembles_09132021/Ensemble_3LayerA_0.1.mat\"\n",
    "    \n",
    "def load_analysis(filename):\n",
    "    with h5py.File(filename, 'r') as file:\n",
    "        print(list(file.keys()))\n",
    "        log_rho = np.array(file[\"logRhoPlot\"]) # logarithm of resistivity\n",
    "        xVals = np.array(file[\"xVals\"]) # log-resistivity bins used in analyses\n",
    "        zVals = np.array(file[\"zVals\"]) # logarithm of depth\n",
    "        residuals = np.array(file[\"residuals\"])\n",
    "        ewre2n = np.array(file[\"ewre2n\"])\n",
    "    return xVals, zVals, log_rho, residuals, ewre2n\n",
    "              \n",
    "def load_ensemble(filename):\n",
    "    with h5py.File(filename, 'r') as file:        \n",
    "        depth = np.array(file[\"results\"][\"ensembleDepths\"])\n",
    "        rho = np.array(file[\"results\"][\"ensembleRhos\"])\n",
    "        n_layer = np.array(file[\"results\"][\"ensembleNumLayers\"])\n",
    "    return depth, rho, n_layer\n",
    "            \n",
    "# x, z, log_rho,residuals,ewre2n = load_analysis(analysis_file)\n",
    "# depth, rho, n_layer = load_ensemble(ensemble_file)"
   ]
  },
  {
   "cell_type": "code",
   "execution_count": null,
   "id": "8860c327",
   "metadata": {},
   "outputs": [],
   "source": [
    "# Note - doing pcolor for all of logrhoplot is very very slow. That's why the code is commented out!\n",
    "# plt.figure()\n",
    "# plt.pcolor(log_rho)\n",
    "# plt.colorbar()\n",
    "# plt.show()"
   ]
  },
  {
   "cell_type": "code",
   "execution_count": null,
   "id": "3e457510",
   "metadata": {},
   "outputs": [],
   "source": [
    "fig,ax = plt.subplots(1,1)\n",
    "h = ax.pcolorfast(log_rho_samples.T)\n",
    "plt.colorbar(h)\n",
    "fig.show()"
   ]
  },
  {
   "cell_type": "code",
   "execution_count": null,
   "id": "aa07a794",
   "metadata": {
    "scrolled": true
   },
   "outputs": [],
   "source": [
    "# noise_levels = [\"0.01\",\"0.02\",\"0.05\",\"0.1\",\"0.2\"]\n",
    "noise_levels = [\"0.02\",\"0.05\",\"0.1\"]\n",
    "all_keep_idx = []\n",
    "import os\n",
    "try:\n",
    "    os.mkdir(date)\n",
    "except:\n",
    "    pass\n",
    "\n",
    "# Sequence the log_rho samples and SAVE THE RESULTS FOR LATER USE!!\n",
    "for noise_level in noise_levels:\n",
    "    #     analysis_file = \"../Ensembles_09132021/Analysis3LayerA_\" + noise_level + \".mat\"\n",
    "    #     ensemble_file = \"../Ensembles_09132021/Ensemble_3LayerA_\" + noise_level + \".mat\"\n",
    "    analysis_file = analysis_file_base + noise_level + \".mat\"\n",
    "    ensemble_file = ensemble_file_base + noise_level + \".mat\"\n",
    "    # load the ensemble:\n",
    "    print(\"now on ensemble \"+ensemble_file)\n",
    "    x, z, log_rho, residuals ,ewre2n = load_analysis(analysis_file)\n",
    "    depth, rho, n_layer = load_ensemble(ensemble_file)\n",
    "    \n",
    "    # select a subset of the ensemble:\n",
    "    #keep_idx = np.random.permutation(log_rho.shape[0])[:n_keep]\n",
    "    keep_idx = np.arange(0,log_rho.shape[0],int(log_rho.shape[0]/n_keep))\n",
    "    all_keep_idx.append(keep_idx) # save the keep idx for later use\n",
    "    log_rho_samples = log_rho[keep_idx,:]\n",
    "    \n",
    "    estimator_list = ['L2']#['EMD','L2','energy']\n",
    "    output_directory = date + \"/sequencer_output_\" + noise_level\n",
    "    scale_list = [[1],]#[[1],[1],[1]]\n",
    "    import os\n",
    "    try:\n",
    "        os.mkdir(output_directory)\n",
    "    except:\n",
    "        pass\n",
    "    seq = sequencer.Sequencer(z.flatten(), log_rho_samples+offset, estimator_list,scale_list=scale_list)\n",
    "    final_elongation, final_sequence = seq.execute(output_directory,                                              \n",
    "                                                  to_use_parallelization=True,\n",
    "                                                  to_average_N_best_estimators=True, \n",
    "                                                  number_of_best_estimators=2)\n",
    "np.save(date + \"/keep_indices.npy\",all_keep_idx)\n",
    "    \n"
   ]
  },
  {
   "cell_type": "code",
   "execution_count": null,
   "id": "56ca0671",
   "metadata": {
    "scrolled": true
   },
   "outputs": [],
   "source": [
    "# LOAD THE RESULTS AND PLOT!    \n",
    "all_keep_idx = np.load(date + \"/keep_indices.npy\")\n",
    "noise_levels = [\"0.02\",\"0.05\",\"0.1\"]\n",
    "\n",
    "for noise_level,keep_idx in zip(noise_levels,all_keep_idx):\n",
    "    analysis_file = analysis_file_base + noise_level + \".mat\"\n",
    "    ensemble_file = ensemble_file_base + noise_level + \".mat\"\n",
    "    #analysis_file = \"../Ensembles_09132021/Analysis3LayerA_\" + noise_level + \".mat\"\n",
    "    #ensemble_file = \"../Ensembles_09132021/Ensemble_3LayerA_\" + noise_level + \".mat\"\n",
    "    # load the ensemble:\n",
    "    print(\"now on ensemble \"+ensemble_file)\n",
    "    x, z, log_rho, residuals ,ewre2n = load_analysis(analysis_file)\n",
    "    depth, rho, n_layer = load_ensemble(ensemble_file)\n",
    "            \n",
    "    # select a subset of the ensemble:\n",
    "    log_rho_samples = log_rho[keep_idx,:]\n",
    "    \n",
    "    estimator_list = ['EMD','L2','energy']\n",
    "    output_directory = date + \"/sequencer_output_\" + noise_level\n",
    "    scale_list = [[1],[1],[1]]\n",
    "\n",
    "    seq = sequencer.Sequencer(z.flatten(), log_rho_samples+offset, estimator_list,scale_list=scale_list)\n",
    "    final_elongation, final_sequence = seq.execute(output_directory,                                              \n",
    "                                                  to_average_N_best_estimators=True, \n",
    "                                                  number_of_best_estimators=2,\n",
    "                                                  to_calculate_distance_matrices=False,\n",
    "                                                  to_save_distance_matrices=False,\n",
    "                                                  distance_matrices_inpath=output_directory + \"/distance_matrices.pkl\")\n",
    "    \n",
    "    print(\"intermediate elongations for the different metrics and scales:\")\n",
    "    estimator_list, scale_list, elongation_list = seq.return_elongation_of_weighted_products_all_metrics_and_scales()\n",
    "    for i in range(len(estimator_list)):\n",
    "        print(\"metric=%s, scale=%s, elongation: %s\" % (estimator_list[i], \n",
    "                                                       scale_list[i], \n",
    "                                                       elongation_list[i]))\n",
    "        \n",
    "    # PLOTTING!!\n",
    "    xlabel = np.arange(n_keep)\n",
    "    zlabel = (z[0][0:-1]+z[0][1:])/2.0\n",
    "\n",
    "    vmin = np.min(log_rho_samples)\n",
    "    vmax = np.max(log_rho_samples)\n",
    "    vmin = -1\n",
    "    vmax = 4\n",
    "\n",
    "    import matplotlib.gridspec as gridspec\n",
    "    estimator_list, scale_list, sequence_list = seq.return_sequence_of_weighted_products_all_metrics_and_scales()\n",
    "\n",
    "    # fig, (ax0,ax1,ax2,ax3) = plt.subplots(1,4,figsize=(16,4))\n",
    "    fig = plt.figure(constrained_layout=True,figsize=(12,4))\n",
    "    spec = gridspec.GridSpec(ncols=4, nrows=2, figure=fig)\n",
    "    ax0 = fig.add_subplot(spec[0, 0])\n",
    "    ax1 = fig.add_subplot(spec[0, 1])\n",
    "    ax2 = fig.add_subplot(spec[0, 2])\n",
    "    ax3 = fig.add_subplot(spec[0, 3])\n",
    "\n",
    "    # sequence = final_sequence\n",
    "    ax0.pcolormesh(xlabel,z[0],log_rho_samples.T,vmin=vmin,vmax=vmax,rasterized=True)\n",
    "    ax0.set_title(\"Unordered Ensemble\")\n",
    "    ax0.set_yscale(\"log\")\n",
    "    ax0.invert_yaxis()\n",
    "    ax0.set_ylabel(\"Depth (m)\")\n",
    "\n",
    "    pcm = ax1.pcolormesh(xlabel,z[0],log_rho_samples[sequence_list[0],:].T,vmin=vmin,vmax=vmax,rasterized=True)\n",
    "    ax1.set_title(estimator_list[0])\n",
    "    ax1.set_yscale(\"log\")\n",
    "    ax1.invert_yaxis()\n",
    "\n",
    "    ax2.pcolormesh(xlabel,z[0],log_rho_samples[sequence_list[1],:].T,vmin=vmin,vmax=vmax,rasterized=True)\n",
    "    ax2.set_title(estimator_list[1])\n",
    "    ax2.set_yscale(\"log\")\n",
    "    ax2.invert_yaxis()\n",
    "\n",
    "    ax3.pcolormesh(xlabel,z[0],log_rho_samples[sequence_list[2],:].T,vmin=vmin,vmax=vmax,rasterized=True)\n",
    "    ax3.set_title(estimator_list[2])\n",
    "    ax3.set_yscale(\"log\")\n",
    "    ax3.invert_yaxis()\n",
    "    fig.colorbar(pcm,ax=ax3,shrink=0.8)\n",
    "    plt.savefig(date + \"/figure_ensemble_\" + noise_level + \".pdf\",dpi=300)\n",
    "    fig.show()"
   ]
  },
  {
   "cell_type": "code",
   "execution_count": 3,
   "id": "693eac53",
   "metadata": {},
   "outputs": [
    {
     "ename": "NameError",
     "evalue": "name 'ewre2n' is not defined",
     "output_type": "error",
     "traceback": [
      "\u001b[0;31m---------------------------------------------------------------------------\u001b[0m",
      "\u001b[0;31mNameError\u001b[0m                                 Traceback (most recent call last)",
      "\u001b[0;32m/tmp/ipykernel_1132875/341426330.py\u001b[0m in \u001b[0;36m<module>\u001b[0;34m\u001b[0m\n\u001b[0;32m----> 1\u001b[0;31m \u001b[0mewre_keep\u001b[0m \u001b[0;34m=\u001b[0m \u001b[0mewre2n\u001b[0m\u001b[0;34m[\u001b[0m\u001b[0mkeep_idx\u001b[0m\u001b[0;34m]\u001b[0m\u001b[0;34m\u001b[0m\u001b[0;34m\u001b[0m\u001b[0m\n\u001b[0m\u001b[1;32m      2\u001b[0m \u001b[0mresidual_keep\u001b[0m \u001b[0;34m=\u001b[0m \u001b[0mresiduals\u001b[0m\u001b[0;34m[\u001b[0m\u001b[0mkeep_idx\u001b[0m\u001b[0;34m,\u001b[0m\u001b[0;34m:\u001b[0m\u001b[0;34m]\u001b[0m\u001b[0;34m\u001b[0m\u001b[0;34m\u001b[0m\u001b[0m\n\u001b[1;32m      3\u001b[0m \u001b[0mprint\u001b[0m\u001b[0;34m(\u001b[0m\u001b[0mresiduals\u001b[0m\u001b[0;34m.\u001b[0m\u001b[0mshape\u001b[0m\u001b[0;34m)\u001b[0m\u001b[0;34m\u001b[0m\u001b[0;34m\u001b[0m\u001b[0m\n\u001b[1;32m      4\u001b[0m \u001b[0;34m\u001b[0m\u001b[0m\n\u001b[1;32m      5\u001b[0m \u001b[0mplt\u001b[0m\u001b[0;34m.\u001b[0m\u001b[0mfigure\u001b[0m\u001b[0;34m(\u001b[0m\u001b[0;34m)\u001b[0m\u001b[0;34m\u001b[0m\u001b[0;34m\u001b[0m\u001b[0m\n",
      "\u001b[0;31mNameError\u001b[0m: name 'ewre2n' is not defined"
     ]
    }
   ],
   "source": [
    "ewre_keep = ewre2n[keep_idx]\n",
    "residual_keep = residuals[keep_idx,:]\n",
    "print(residuals.shape)\n",
    "\n",
    "plt.figure()\n",
    "plt.plot(residual_keep[sequence_list[1]])\n",
    "plt.show()"
   ]
  },
  {
   "cell_type": "code",
   "execution_count": null,
   "id": "4267b678",
   "metadata": {},
   "outputs": [],
   "source": [
    "estimator_list\n",
    "scale_list\n",
    "sequence_list"
   ]
  },
  {
   "cell_type": "code",
   "execution_count": null,
   "id": "577e371e",
   "metadata": {},
   "outputs": [],
   "source": [
    "keep_idx"
   ]
  },
  {
   "cell_type": "code",
   "execution_count": null,
   "id": "dad2c7a5",
   "metadata": {},
   "outputs": [],
   "source": []
  },
  {
   "cell_type": "code",
   "execution_count": null,
   "id": "75a679d6",
   "metadata": {},
   "outputs": [],
   "source": [
    "plt.hist(log_rho_samples.ravel())"
   ]
  },
  {
   "cell_type": "code",
   "execution_count": null,
   "id": "d11b40f7",
   "metadata": {},
   "outputs": [],
   "source": [
    "log_rho_samples.shape[0]"
   ]
  },
  {
   "cell_type": "code",
   "execution_count": null,
   "id": "ad83a240",
   "metadata": {},
   "outputs": [],
   "source": [
    "test = np.arange(0,log_rho.shape[0],int(log_rho.shape[0]/n_keep))\n",
    "test.shape"
   ]
  },
  {
   "cell_type": "code",
   "execution_count": null,
   "id": "45155a7f",
   "metadata": {},
   "outputs": [],
   "source": [
    "keep_idx.shape"
   ]
  },
  {
   "cell_type": "code",
   "execution_count": null,
   "id": "d87b1037",
   "metadata": {},
   "outputs": [],
   "source": [
    "test.dtype"
   ]
  },
  {
   "cell_type": "code",
   "execution_count": null,
   "id": "8515e5c0",
   "metadata": {},
   "outputs": [],
   "source": []
  }
 ],
 "metadata": {
  "kernelspec": {
   "display_name": "Python 3 (ipykernel)",
   "language": "python",
   "name": "python3"
  },
  "language_info": {
   "codemirror_mode": {
    "name": "ipython",
    "version": 3
   },
   "file_extension": ".py",
   "mimetype": "text/x-python",
   "name": "python",
   "nbconvert_exporter": "python",
   "pygments_lexer": "ipython3",
   "version": "3.7.16"
  }
 },
 "nbformat": 4,
 "nbformat_minor": 5
}
